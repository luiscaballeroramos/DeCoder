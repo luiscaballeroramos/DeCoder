{
  "nbformat": 4,
  "nbformat_minor": 0,
  "metadata": {
    "colab": {
      "name": "Te damos la bienvenida a Colaboratory",
      "provenance": [],
      "collapsed_sections": [],
      "toc_visible": true,
      "include_colab_link": true
    },
    "kernelspec": {
      "display_name": "Python 3",
      "name": "python3"
    },
    "accelerator": "GPU"
  },
  "cells": [
    {
      "cell_type": "markdown",
      "metadata": {
        "id": "view-in-github",
        "colab_type": "text"
      },
      "source": [
        "<a href=\"https://colab.research.google.com/github/luiscaballeroramos/DeCoder/blob/EC3_1_8_DesignOfJoints/DeCoder.ipynb\" target=\"_parent\"><img src=\"https://colab.research.google.com/assets/colab-badge.svg\" alt=\"Open In Colab\"/></a>"
      ]
    },
    {
      "cell_type": "markdown",
      "metadata": {
        "id": "q2EDzXG0RvSb",
        "colab_type": "text"
      },
      "source": [
        "# 0. Preliminary Tasks"
      ]
    },
    {
      "cell_type": "markdown",
      "metadata": {
        "id": "PufMfJubJbAx",
        "colab_type": "text"
      },
      "source": [
        "Install and import PyPDF2 library to open and read the PDF file containing the code"
      ]
    },
    {
      "cell_type": "code",
      "metadata": {
        "id": "zLUSLc-tA0_H",
        "colab_type": "code",
        "colab": {
          "base_uri": "https://localhost:8080/",
          "height": 34
        },
        "outputId": "732bf215-6e56-438d-bb63-bfbf65dce065"
      },
      "source": [
        "!pip install PyPDF2\n",
        "import PyPDF2"
      ],
      "execution_count": 405,
      "outputs": [
        {
          "output_type": "stream",
          "text": [
            "Requirement already satisfied: PyPDF2 in /usr/local/lib/python3.6/dist-packages (1.26.0)\n"
          ],
          "name": "stdout"
        }
      ]
    },
    {
      "cell_type": "markdown",
      "metadata": {
        "id": "6in-bcdRJofT",
        "colab_type": "text"
      },
      "source": [
        "Clone the GitHub repository containing the PDF file with code"
      ]
    },
    {
      "cell_type": "code",
      "metadata": {
        "id": "t6LZXE5nEjO2",
        "colab_type": "code",
        "colab": {
          "base_uri": "https://localhost:8080/",
          "height": 34
        },
        "outputId": "377fa4e4-019e-40ad-849a-5d64c131a00c"
      },
      "source": [
        "!git clone -b EC3_1_8_DesignOfJoints https://github.com/luiscaballeroramos/DeCoder.git"
      ],
      "execution_count": 406,
      "outputs": [
        {
          "output_type": "stream",
          "text": [
            "fatal: destination path 'DeCoder' already exists and is not an empty directory.\n"
          ],
          "name": "stdout"
        }
      ]
    },
    {
      "cell_type": "markdown",
      "metadata": {
        "id": "5nU2KtuvJ5GF",
        "colab_type": "text"
      },
      "source": [
        "Import libraries used in this tool"
      ]
    },
    {
      "cell_type": "code",
      "metadata": {
        "id": "I1ZEKl7fTO9c",
        "colab_type": "code",
        "colab": {}
      },
      "source": [
        "import numpy as np\n",
        "import regex as re\n",
        "from tabulate import tabulate"
      ],
      "execution_count": 408,
      "outputs": []
    },
    {
      "cell_type": "markdown",
      "metadata": {
        "id": "Sz_G46GVIF7B",
        "colab_type": "text"
      },
      "source": [
        "# 1. Read PDF\n",
        "\n",
        "Read the .pdf file with PyPF2 library"
      ]
    },
    {
      "cell_type": "code",
      "metadata": {
        "id": "S342P1RjLBm0",
        "colab_type": "code",
        "colab": {}
      },
      "source": [
        "pdfFile=open('DeCoder/EC 1993.1.8.2005-1.pdf','rb')\n",
        "pdfReader=PyPDF2.PdfFileReader(pdfFile)"
      ],
      "execution_count": 409,
      "outputs": []
    },
    {
      "cell_type": "code",
      "metadata": {
        "id": "dQw9xHOVLVBM",
        "colab_type": "code",
        "colab": {
          "base_uri": "https://localhost:8080/",
          "height": 34
        },
        "outputId": "720606a2-72af-436f-af2b-72c44532708b"
      },
      "source": [
        "numPages=pdfReader.numPages\n",
        "print(numPages)"
      ],
      "execution_count": 410,
      "outputs": [
        {
          "output_type": "stream",
          "text": [
            "135\n"
          ],
          "name": "stdout"
        }
      ]
    },
    {
      "cell_type": "markdown",
      "metadata": {
        "id": "5cJkLwYbKZjh",
        "colab_type": "text"
      },
      "source": [
        "Get the pages content as dictionary (pages) with:\n",
        "* key = page number (pageNum)\n",
        "* value = page content as string (pageContent)\n",
        "\n"
      ]
    },
    {
      "cell_type": "code",
      "metadata": {
        "id": "TAnRzPNXOHM1",
        "colab_type": "code",
        "colab": {}
      },
      "source": [
        "pages={}\n",
        "pageContent=''\n",
        "for pageNum in range(0,numPages):\n",
        "  pdfPage=pdfReader.getPage(pageNum)\n",
        "  pageContent=pdfPage.extractText()\n",
        "  pages[pageNum]=pageContent\n",
        "  pass"
      ],
      "execution_count": 411,
      "outputs": []
    },
    {
      "cell_type": "markdown",
      "metadata": {
        "id": "2mu4xLtUYInb",
        "colab_type": "text"
      },
      "source": [
        "# 2. Table Of Contents (TOC)\n",
        "2.0. TOC Definition (settings)\n",
        "\n",
        "2.1. TOC Location (pages)\n",
        "\n",
        "2.2. TOC Contents (toc's)"
      ]
    },
    {
      "cell_type": "markdown",
      "metadata": {
        "id": "LC1Sm60AUMmZ",
        "colab_type": "text"
      },
      "source": [
        "# 2.0. TOC Definition"
      ]
    },
    {
      "cell_type": "markdown",
      "metadata": {
        "id": "RkerAtNbLTKh",
        "colab_type": "text"
      },
      "source": [
        "Set TOC identifiers, keywords that could be used to refering TOC"
      ]
    },
    {
      "cell_type": "code",
      "metadata": {
        "id": "9fF57ToRMz1A",
        "colab_type": "code",
        "colab": {}
      },
      "source": [
        "TOCidentifiers=['contents','Contents',\n",
        "                 'table of contents','Table of contents','Table Of Contents']"
      ],
      "execution_count": 412,
      "outputs": []
    },
    {
      "cell_type": "markdown",
      "metadata": {
        "id": "1l22DtXCG_XA",
        "colab_type": "text"
      },
      "source": [
        "Description of toc elements by regex expressions "
      ]
    },
    {
      "cell_type": "code",
      "metadata": {
        "id": "oj7ihYnISKQI",
        "colab_type": "code",
        "colab": {}
      },
      "source": [
        "refidRegex='\\d'\n",
        "refsepRegex='\\.'\n",
        "namRegex='[\\s\\w]*'\n",
        "sepRegex='\\.{2,}'\n",
        "numRegex='\\d+'"
      ],
      "execution_count": 437,
      "outputs": []
    },
    {
      "cell_type": "code",
      "metadata": {
        "id": "2bTT4LzJZyNj",
        "colab_type": "code",
        "colab": {}
      },
      "source": [
        "class TOC():\n",
        "  def __init__(self,refidRegex,refsepRegex,namRegex,sepRegex,numRegex):\n",
        "    self.refidRegex=refidRegex\n",
        "    self.refsepRegex=refsepRegex\n",
        "    self.refRegex=refidRegex+'(?:'+refsepRegex+'+'+refidRegex+'*)+'\n",
        "    self.namRegex=namRegex\n",
        "    self.sepRegex=sepRegex\n",
        "    self.numRegex=numRegex\n",
        "    self.tocRegex=refRegex+'\\s*'+namRegex+'\\s*'+sepRegex+'\\s*'+numRegex\n",
        "    self.tocList=[]\n",
        "    pass\n",
        "  def addToc(self,toc):\n",
        "    if len(list(x for x in self.tocList if x.ref == toc.ref)) == 0:\n",
        "      self.tocList.append(toc)\n",
        "      pass\n",
        "    pass\n",
        "  def printTOC(self):\n",
        "    table=[]\n",
        "    for toc in TOC_EC3.tocList:\n",
        "      table.append([toc.ref,toc.name,toc.begin.page,toc.level])\n",
        "      pass\n",
        "    print(tabulate(table,headers=['Ref.','Name','Begin page','Level'], tablefmt='orgtbl'))\n",
        "  pass\n",
        "TOC_EC3=TOC(refidRegex,refsepRegex,namRegex,sepRegex,numRegex)"
      ],
      "execution_count": 448,
      "outputs": []
    },
    {
      "cell_type": "code",
      "metadata": {
        "id": "rXW96EKaZChz",
        "colab_type": "code",
        "colab": {}
      },
      "source": [
        "class PDFlocation():\n",
        "  def __init__(self,page,begin=None,end=None):\n",
        "    self.page=page\n",
        "    if begin is None:\n",
        "      self.begin=None\n",
        "      self.end =None\n",
        "    else:\n",
        "      self.begin=int(begin)\n",
        "      if end is None:\n",
        "        self.end=int(begin)\n",
        "      else:\n",
        "        self.end=end\n",
        "        pass\n",
        "      pass\n",
        "    pass\n",
        "  pass"
      ],
      "execution_count": 449,
      "outputs": []
    },
    {
      "cell_type": "code",
      "metadata": {
        "id": "A1zfawouTr5a",
        "colab_type": "code",
        "colab": {}
      },
      "source": [
        "class toc():\n",
        "  def __init__(self,ref,name,begin=None,end=None,level=None):\n",
        "    self.ref=ref\n",
        "    self.name=name\n",
        "    self.begin=begin\n",
        "    self.end=end\n",
        "    self.setLevel()\n",
        "    pass\n",
        "  def setLevel(self):\n",
        "    self.level = len(list(filter(lambda item: item, re.split('\\.*',self.ref))))-1\n",
        "    pass\n",
        "  pass"
      ],
      "execution_count": 450,
      "outputs": []
    },
    {
      "cell_type": "markdown",
      "metadata": {
        "id": "Wo4e4b0rRRQc",
        "colab_type": "text"
      },
      "source": [
        "# 2.1. TOC Location"
      ]
    },
    {
      "cell_type": "markdown",
      "metadata": {
        "id": "wJOnQENhLyY_",
        "colab_type": "text"
      },
      "source": [
        "TOC identifiers apearances in each document page "
      ]
    },
    {
      "cell_type": "code",
      "metadata": {
        "id": "9AxQQczRLyyB",
        "colab_type": "code",
        "colab": {}
      },
      "source": [
        "TOCcoincidences={}\n",
        "TOCtotalCoincidences={}\n",
        "for pageNum, pageContent in pages.items():\n",
        "  aux=[]\n",
        "  for TOCidentifier in TOCidentifiers:\n",
        "    aux.append(pageContent.count(TOCidentifier))\n",
        "    pass\n",
        "  TOCcoincidences[pageNum]=aux\n",
        "  TOCtotalCoincidences[pageNum]=sum(aux)\n",
        "  pass"
      ],
      "execution_count": 417,
      "outputs": []
    },
    {
      "cell_type": "markdown",
      "metadata": {
        "id": "GSSQ3zPZPYeG",
        "colab_type": "text"
      },
      "source": [
        "Total of TOC identifiers apearances in PDF document"
      ]
    },
    {
      "cell_type": "code",
      "metadata": {
        "id": "7mf3Wz-J8vIe",
        "colab_type": "code",
        "colab": {
          "base_uri": "https://localhost:8080/",
          "height": 34
        },
        "outputId": "79f801c7-83f4-4a01-afcd-c2a4f599b49c"
      },
      "source": [
        "sumTOCTotalCoincidences=sum(TOC_totalCoincidences.values())\n",
        "print('Number of TOC indentifiers: {0}'.format(sumTOCTotalCoincidences))"
      ],
      "execution_count": 418,
      "outputs": [
        {
          "output_type": "stream",
          "text": [
            "Number of TOC indentifiers: 1\n"
          ],
          "name": "stdout"
        }
      ]
    },
    {
      "cell_type": "markdown",
      "metadata": {
        "id": "FsKcRtGePjL0",
        "colab_type": "text"
      },
      "source": [
        "Max TOC identifiers apearances in one page and the page where this happens"
      ]
    },
    {
      "cell_type": "code",
      "metadata": {
        "id": "oyVuUAJ88yDx",
        "colab_type": "code",
        "colab": {
          "base_uri": "https://localhost:8080/",
          "height": 52
        },
        "outputId": "23626fbb-dca5-4607-f882-5755b5a0a411"
      },
      "source": [
        "maxTOCTotalCoincidences=max(TOCtotalCoincidences.values())\n",
        "maxTOCTotalCoincidencesPages = [key  for (key, value) in TOC_totalCoincidences.items() if value == maxTotalCoincidences]\n",
        "print('Number of Max TOC indentifiers in One Page: {0}'.format(maxTotalCoincidences))\n",
        "print('Pages with Max TOC indentifiers in One Page: {0}'.format(maxTotalCoincidencesPages))"
      ],
      "execution_count": 419,
      "outputs": [
        {
          "output_type": "stream",
          "text": [
            "Number of Max TOC indentifiers in One Page: 1\n",
            "Pages with Max TOC indentifiers in One Page: [3]\n"
          ],
          "name": "stdout"
        }
      ]
    },
    {
      "cell_type": "markdown",
      "metadata": {
        "id": "36xV1zkuectm",
        "colab_type": "text"
      },
      "source": [
        "Pages where toc pattern (Regex) is detected"
      ]
    },
    {
      "cell_type": "code",
      "metadata": {
        "colab_type": "code",
        "id": "KjtBxwYrazHV",
        "colab": {}
      },
      "source": [
        "tocCoincidences={}\n",
        "for pageNum, pageContent in pages.items():\n",
        "  tocCoincidences[pageNum]=len(re.findall(TOC_EC3.tocRegex,pages[pageNum]))\n",
        "  pass"
      ],
      "execution_count": 420,
      "outputs": []
    },
    {
      "cell_type": "code",
      "metadata": {
        "colab_type": "code",
        "id": "iQmfUyrKdnCy",
        "colab": {
          "base_uri": "https://localhost:8080/",
          "height": 34
        },
        "outputId": "e4b42ae2-3f6f-4e5d-8e3b-7ef99aea9564"
      },
      "source": [
        "noNulltocCoincidencesPages = [key  for (key, value) in tocCoincidences.items() if value != 0]\n",
        "print('Pages with toc Regex: {0}'.format(noNulltocCoincidencesPages))"
      ],
      "execution_count": 421,
      "outputs": [
        {
          "output_type": "stream",
          "text": [
            "Pages with toc Regex: [3, 4, 5]\n"
          ],
          "name": "stdout"
        }
      ]
    },
    {
      "cell_type": "code",
      "metadata": {
        "id": "qud5znLCfctF",
        "colab_type": "code",
        "colab": {}
      },
      "source": [
        "TOCpages=noNulltocCoincidencesPages"
      ],
      "execution_count": 422,
      "outputs": []
    },
    {
      "cell_type": "markdown",
      "metadata": {
        "id": "6KrxcR7HRlnM",
        "colab_type": "text"
      },
      "source": [
        "# 2.2. TOC Contents"
      ]
    },
    {
      "cell_type": "code",
      "metadata": {
        "id": "2rVp7MBs_QC4",
        "colab_type": "code",
        "colab": {
          "base_uri": "https://localhost:8080/",
          "height": 1000
        },
        "outputId": "48308d0d-55cc-4e2d-902f-e4031f556382"
      },
      "source": [
        "pattern = re.compile(TOC_EC3.tocRegex)\n",
        "for page in TOCpages:\n",
        "  for match in pattern.finditer(pages[page]):\n",
        "    [split1,split2]=re.split(TOC_EC3.sepRegex,match.group())\n",
        "    ref=re.search(TOC_EC3.refRegex,split1).group()\n",
        "    split1=re.sub(TOC_EC3.refRegex,'',split1)\n",
        "    nam=re.search(TOC_EC3.namRegex,split1).group()\n",
        "    split1=re.sub(TOC_EC3.namRegex,'',split1)\n",
        "    num=re.search(TOC_EC3.numRegex,split2).group()\n",
        "    beginLocation=PDFlocation(num)\n",
        "    toc_EC3=toc(ref,nam,beginLocation)\n",
        "    TOC_EC3.addToc(toc_EC3)\n",
        "    pass\n",
        "  pass\n",
        "TOC_EC3.tocList.sort(key=lambda x: x.ref, reverse=False)\n",
        "TOC_EC3.printTOC()\n",
        "#for toc in TOC_EC3.tocList:\n",
        "  #print('{0} {1} {2} {3}'.format(toc.ref,toc.name,toc.begin.page,toc.level))\n",
        "  #pass"
      ],
      "execution_count": 452,
      "outputs": [
        {
          "output_type": "stream",
          "text": [
            "| Ref.   | Name                                                                           |   Begin page |   Level |\n",
            "|--------+--------------------------------------------------------------------------------+--------------+---------|\n",
            "| 1.3    | Distinction between Principles and Application Rules                           |            1 |       1 |\n",
            "| 1.5    | SY111bols                                                                      |           13 |       1 |\n",
            "| 2.1    | AsslIlnptions                                                                  |           18 |       1 |\n",
            "| 2.2    | General requirenlents                                                          |           18 |       1 |\n",
            "| 2.4    | Resistance of joints                                                           |           18 |       1 |\n",
            "| 2.5    | Design assunlptions                                                            |           19 |       1 |\n",
            "| 2.7    | Eccentricity at intersections                                                  |           19 |       1 |\n",
            "| 3.1    | J Prying forces                                                                |           34 |       1 |\n",
            "| 3.10   | Deductions for fastener holes                                                  |           31 |       1 |\n",
            "| 3.10.1 | General                                                                        |           31 |       2 |\n",
            "| 3.10.2 | Design for block tearing                                                       |           32 |       2 |\n",
            "| 3.10.3 | Angles connected by one and other unsymmetrically connected members in tension |           33 |       2 |\n",
            "| 3.10.4 | Lug                                                                            |           34 |       2 |\n",
            "| 3.13.2 | Design of pins                                                                 |           35 |       2 |\n",
            "| 3.4    | Categories ofboJted connections                                                |           21 |       1 |\n",
            "| 3.4.   | 1 Shear connections                                                            |            2 |       1 |\n",
            "| 3.4.2  | Tension connections                                                            |           21 |       2 |\n",
            "| 3.5    | Positioning of holes for bolts and rivets                                      |           23 |       1 |\n",
            "| 3.6    | Design resistance of individual fasteners                                      |           24 |       1 |\n",
            "| 3.6.1  | Bolts and rivets                                                               |           24 |       2 |\n",
            "| 3.6.2  | Injection bolts                                                                |           28 |       2 |\n",
            "| 3.7    | Group of fasteners                                                             |           29 |       1 |\n",
            "| 3.9.   | J Design Slip resistance                                                       |           30 |       1 |\n",
            "| 3.9.2  | Combined tension and shear                                                     |           31 |       2 |\n",
            "| 3.9.3  | Hybrid cOl1nections                                                            |           31 |       2 |\n",
            "| 4.1    | General                                                                        |           38 |       1 |\n",
            "| 4.13   | connected by one leg                                                           |           48 |       1 |\n",
            "| 4.2    | Welding consu1l1ables                                                          |           38 |       1 |\n",
            "| 4.3    | Geollle1ry and dilnensions                                                     |           38 |       1 |\n",
            "| 4.3.2  | Fillet welds                                                                   |           38 |       2 |\n",
            "| 4.3.5  | Plug vvelds                                                                    |           41 |       2 |\n",
            "| 4.5.1  | Length of welds                                                                |           42 |       2 |\n",
            "| 4.6    | resistance                                                                     |           44 |       1 |\n",
            "|        | of fillet welds all round                                                      |              |         |\n",
            "| 4.9    | Distribution of forces                                                         |           46 |       1 |\n",
            "| 5.1    | Global analysis                                                                |           50 |       1 |\n",
            "| 5.1.1  | General                                                                        |           50 |       2 |\n",
            "| 5.1.2  | Elastic global                                                                 |           50 |       2 |\n",
            "| 5.1.5  | Global analysis of lat6ce girders                                              |           52 |       2 |\n",
            "| 5.2    | Classification of joints                                                       |           54 |       1 |\n",
            "| 5.2.1  | General                                                                        |           54 |       2 |\n",
            "| 5.2.2  | Classification by stiffness                                                    |           54 |       2 |\n",
            "| 5.2.3  | Classification by strength                                                     |           55 |       2 |\n",
            "| 6.1    | General                                                                        |           60 |       1 |\n",
            "| 6.1.1  | Basis                                                                          |           60 |       2 |\n",
            "| 6.1.2  | Structural properties                                                          |           60 |       2 |\n",
            "| 6.1.3  | Basic components of a joinL                                                    |            6 |       2 |\n",
            "| 6.2    | Design Resistance                                                              |           65 |       1 |\n",
            "| 6.2.1  | Internal forces                                                                |           65 |       2 |\n",
            "| 6.2.2  | Shear forces                                                                   |           65 |       2 |\n",
            "| 6.2.3  | Bending lnOlnents                                                              |           66 |       2 |\n",
            "| 6.2.6  | Resistance of basic components                                                 |           71 |       2 |\n",
            "| 6.2.8  | resistance of column bases with base plates                                    |           89 |       2 |\n",
            "| 6.3    | Rotational stiffness                                                           |           92 |       1 |\n",
            "| 6.3.1  | Basic tllodel                                                                  |           92 |       2 |\n",
            "| 6.3.2  | Stiffness coefficients for basic joint components                              |           94 |       2 |\n",
            "| 6.3.4  | Colulnn bases                                                                  |           98 |       2 |\n",
            "| 6.4    | Rotation capacity                                                              |           99 |       1 |\n",
            "| 6.4.1  | General                                                                        |           99 |       2 |\n",
            "| 6.4.3  | Welded Joints                                                                  |          100 |       2 |\n",
            "| 7.1    | General                                                                        |           10 |       1 |\n",
            "| 7.1.1  |                                                                                |           10 |       2 |\n",
            "| 7.1.2  | Field of application                                                           |          101 |       2 |\n",
            "| 7.2    | Design                                                                         |          103 |       1 |\n",
            "| 7.2.1  | General                                                                        |          103 |       2 |\n",
            "| 7.3    | Welds                                                                          |          107 |       1 |\n",
            "| 7.3.1  | Design resistance                                                              |            1 |       2 |\n",
            "| 7.4    | Welded joints between CHS members                                              |          108 |       1 |\n",
            "| 7.4.2  | Uniplanar joints                                                               |          108 |       2 |\n",
            "| 7.4.3  | Mul1iplanarjoints                                                              |          115 |       2 |\n",
            "| 7.5    | Vlelded joints between CHS or RHS brace members and RHS chord members          |          116 |       1 |\n",
            "| 7.5.1  | General                                                                        |          116 |       2 |\n",
            "| 7.7    | Uniplanar joints                                                               |          117 |       1 |\n"
          ],
          "name": "stdout"
        }
      ]
    },
    {
      "cell_type": "markdown",
      "metadata": {
        "id": "drZWFsPsGzdD",
        "colab_type": "text"
      },
      "source": [
        "**2.1. Reference**"
      ]
    },
    {
      "cell_type": "code",
      "metadata": {
        "id": "ZGd3miSFfFkP",
        "colab_type": "code",
        "colab": {
          "base_uri": "https://localhost:8080/",
          "height": 72
        },
        "outputId": "92787b94-c4b1-44bb-d551-f96218e4d779"
      },
      "source": [
        "tocList=re.findall('\\s\\d(?:\\.+\\d*)+\\s',pages[3])\n",
        "print(tocList)\n",
        "print(len(tocList))"
      ],
      "execution_count": null,
      "outputs": [
        {
          "output_type": "stream",
          "text": [
            "[' 1.3 ', ' 1.5 ', ' 2.1 ', ' 2.2 ', ' 2.3 ', ' 2.4 ', ' 2.5 ', ' 2.6 ', ' 2.7 ', ' 3.1.1 ', ' 3.2 ', ' 3.4 ', ' 3.4. ', ' 3.4.2 ', ' 3.5 ', ' 3.6 ', ' 3.6.1 ', ' 3.6.2 ', ' 3.7 ', ' 3.8 ', ' 3.9 ', ' 8.8 ', ' 3.9. ', ' 3.9.2 ', ' 3.9.3 ', ' 3.10 ', ' 3.10.1 ', ' 3.10.2 ', ' 3.10.3 ', ' 3.10.4 ', ' 3.1 ', ' 3.12 ', ' 3. ', ' 3.1 ', ' 3.13.2 ', ' 4.1 ', ' 4.2 ', ' 4.3 ', ' 4.3.2 ', ' 4.3.3 ', ' 4.3.4 ', ' 4.3.5 ']\n",
            "42\n"
          ],
          "name": "stdout"
        }
      ]
    },
    {
      "cell_type": "markdown",
      "metadata": {
        "id": "mOMSh6yrHKy9",
        "colab_type": "text"
      },
      "source": [
        "**2.2. Name**\n"
      ]
    },
    {
      "cell_type": "code",
      "metadata": {
        "id": "l6oOTfHKHuaS",
        "colab_type": "code",
        "colab": {
          "base_uri": "https://localhost:8080/",
          "height": 72
        },
        "outputId": "0d189159-f280-4e7d-bf4b-bfa3405296a8"
      },
      "source": [
        "tocList=re.findall('[\\s\\w]*',pages[3])\n",
        "print(tocList)\n",
        "print(len(tocList))"
      ],
      "execution_count": null,
      "outputs": [
        {
          "output_type": "stream",
          "text": [
            "['BS EN 1993', '', '1', '', '8', '', '2005 EN 1993', '', '1', '', '8', '', '2005 ', '', 'E', '', ' Contents Page Introduction ', '', '', '', '', '', '', '', '', '', '', '', '', '', '', '', '', '', '', '', '', '', '', '', '', '', '', '', '', '', '', '', '', '', '', '', '', '', '', '', '', '', '', '', '', '', '', '', '', '', '', '', '', '', '', '', '', '', '', '', '', '', '', '', '', '', '', '', '', '', '', '', '', '', '', '', '', '', '', '', '', '', '', '', '', '', '', '', '', '', '', '', '', '', '', '', '', '', '', '', '', '', '', '', '', '', '', '', '', '', '', '', '', '', '', '', '', '', '', '', '', '', '', '', '', '', '', '', '', '', '', '', '', '', '', '', '', '', '', '', '', '', ' 8 1', '', '', ' Scope ', '', '', '', '', '', '', '', '', '', '', '', '', '', '', '', '', '', '', '', '', '', '', '', '', '', '', '', '', '', '', '', '', '', '', '', '', '', '', '', '', '', '', '', '', '', '', '', '', '', '', '', '', '', '', '', '', '', '', '', '', '', '', '', '', '', '', '', '', '', '', '', '', '', '', '', '', '', '', '', '', '', '', '', '', '', '', '', '', '', '', '', '', '', '', '', '', '', '', '', '', '', '', '', '', '', '', '', '', '', '', '', '', '', '', '', '', '', '', '', '', '', '', '', '', '', '', '', '', '', '', '', '', '', '', '', '', '', '', '', '', '', '', '', '', '', ' 8 l', '', '2 N01111ative references ', '', '', '', '', '', '', '', '', '', '', '', '', '', '', '', '', '', '', '', '', '', '', '', '', '', '', '', '', '', '', '', '', '', '', '', '', '', '', '', '', '', '', '', '', '', '', '', '', '', '', '', '', '', '', '', '', '', '', '', '', '', '', '', '', '', '', '', '', '', '', '', '', '', '', '', '', '', '', '', '', '', '', '', '', '', '', '', '', '', '', '', '', '', '', '', '', '', '', '', '', '', '', '', '', '', '', '', '', '', '', '', '', '', '', '', '', '', '', '', '', '', ' 8 1', '', '3 Distinction between Principles and Application Rules ', '', '', '', '', '', '', '', '', '', '', '', '', '', '', '', '', '', '', '', '', '', '', '', '', '', '', '', '', '', '', '', '', '', '', '', '', '', '', '', '', '', '', '', '', '', '', '', '', '', '', '', '', '', '', '', '', '', '', '', '', '', '', '', '', '', '', '', '', ' 1 0 \\n', '', ' ', '', '4 Tenns and definitions ', '', '', '', '', '', '', '', '', '', '', '', '', '', '', '', '', '', '', '', '', '', '', '', '', '', '', '', '', '', '', '', '', '', '', '', '', '', '', '', '', '', '', '', '', '', '', '', '', '', '', '', '', '', '', '', '', '', '', '', '', '', '', '', '', '', '', '', '', '', '', '', '', '', '', '', '', '', '', '', '', '', '', '', '', '', '', '', '', '', '', '', '', '', '', '', '', '', '', '', '', '', '', '', '', '', '', '', '', '', '', '', '', '', '', '', '', '', '', '', ' 1 0 1', '', '5 SY111bols ', '', '', '', '', '', '', '', '', '', '', '', '', '', '', '', '', '', '', '', '', '', '', '', '', '', '', '', '', '', '', '', '', '', '', '', '', '', '', '', '', '', '', '', '', '', '', '', '', '', '', '', '', '', '', '', '', '', '', '', '', '', '', '', '', '', '', '', '', '', '', '', '', '', '', '', '', '', '', '', '', '', '', '', '', '', '', '', '', '', '', '', '', '', '', '', '', '', '', '', '', '', '', '', '', '', '', '', '', '', '', '', '', '', '', '', '', '', '', '', '', '', '', '', '', '', '', '', '', '', '', '', '', '', '', '', '', '', '', '', '', ' 13 2 Basis of design ', '', '', '', '', '', '', '', '', '', '', '', '', '', '', '', '', '', '', '', '', '', '', '', '', '', '', '', '', '', '', '', '', '', '', '', '', '', '', '', '', '', '', '', '', '', '', '', '', '', '', '', '', '', '', '', '', '', '', '', '', '', '', '', '', '', '', '', '', '', '', '', '', '', '', '', '', '', '', '', '', '', '', '', '', '', '', '', '', '', '', '', '', '', '', '', '', '', '', '', '', '', '', '', '', '', '', '', '', '', '', '', '', '', '', '', '', '', '', '', '', '', '', '', '', '', '', '', '', '', '', '', '', '', '', '', '', '', ' 18 2', '', '1 AsslIlnptions ', '', '', '', '', '', '', '', '', '', '', '', '', '', '', '', '', '', '', '', '', '', '', '', '', '', '', '', '', '', '', '', '', '', '', '', '', '', '', '', '', '', '', '', '', '', '', '', '', '', '', '', '', '', '', '', '', '', '', '', '', '', '', '', '', '', '', '', '', '', '', '', '', '', '', '', '', '', '', '', '', '', '', '', '', '', '', '', '', '', '', '', '', '', '', '', '', '', '', '', '', '', '', '', '', '', '', '', '', '', '', '', '', '', '', '', '', '', '', '', '', '', '', '', '', '', '', '', '', '', '', '', '', '', ' 18 2', '', '2 General requirenlents ', '', '', '', '', '', '', '', '', '', '', '', '', '', '', '', '', '', '', '', '', '', '', '', '', '', '', '', '', '', '', '', '', '', '', '', '', '', '', '', '', '', '', '', '', '', '', '', '', '', '', '', '', '', '', '', '', '', '', '', '', '', '', '', '', '', '', '', '', '', '', '', '', '', '', '', '', '', '', '', '', '', '', '', '', '', '', '', '', '', '', '', '', '', '', '', '', '', '', '', '', '', '', '', '', '', '', '', '', '', '', '', '', '', '', '', '', '', '', '', '', ' 18 2', '', '3 Applied forces and 1l101l1ents ', '', '', '', '', '', '', '', '', '', '', '', '', '', '', '', '', '', '', '', '', '', '', '', '', '', '', '', '', '', '', '', '', '', '', '', '', '', '', '', '', '', '', '', '', '', '', '', '', '', '', '', '', '', '', '', '', '', '', '', '', '', '', '', '', '', '', '', '', '', '', '', '', '', '', '', '', '', '', '', '', '', '', '', '', '', '', '', '', '', '', '', '', '', '', '', '', '', '', '', '', '', '', '', '', '', '', '', '', ' J 8 2', '', '4 Resistance of joints ', '', '', '', '', '', '', '', '', '', '', '', '', '', '', '', '', '', '', '', '', '', '', '', '', '', '', '', '', '', '', '', '', '', '', '', '', '', '', '', '', '', '', '', '', '', '', '', '', '', '', '', '', '', '', '', '', '', '', '', '', '', '', '', '', '', '', '', '', '', '', '', '', '', '', '', '', '', '', '', '', '', '', '', '', '', '', '', '', '', '', '', '', '', '', '', '', '', '', '', '', '', '', '', '', '', '', '', '', '', '', '', '', '', '', '', '', '', '', '', '', '', '', '', ' 18 2', '', '5 Design assunlptions ', '', '', '', '', '', '', '', '', '', '', '', '', '', '', '', '', '', '', '', '', '', '', '', '', '', '', '', '', '', '', '', '', '', '', '', '', '', '', '', '', '', '', '', '', '', '', '', '', '', '', '', '', '', '', '', '', '', '', '', '', '', '', '', '', '', '', '', '', '', '', '', '', '', '', '', '', '', '', '', '', '', '', '', '', '', '', '', '', '', '', '', '', '', '', '', '', '', '', '', '', '', '', '', '', '', '', '', '', '', '', '', '', '', '', '', '', '', '', '', '', '', '', ' 19 2', '', '6 Joints loaded in shear subject to impact', '', ' vibration and', '', 'or load reversal ', '', '', '', '', '', '', '', '', '', '', '', '', '', '', '', '', '', '', '', '', '', '', '', '', '', '', '', '', '', '', '', '', '', '', '', '', '', '', '', '', '', '', ' 19 2', '', '7 Eccentricity at intersections ', '', '', '', '', '', '', '', '', '', '', '', '', '', '', '', '', '', '', '', '', '', '', '', '', '', '', '', '', '', '', '', '', '', '', '', '', '', '', '', '', '', '', '', '', '', '', '', '', '', '', '', '', '', '', '', '', '', '', '', '', '', '', '', '', '', '', '', '', '', '', '', '', '', '', '', '', '', '', '', '', '', '', '', '', '', '', '', '', '', '', '', '', '', '', '', '', '', '', '', '', '', '', '', '', '', '', '', '', '', '', ' 19 3 Connections made ', '', 'vith bolts', '', ' rivets or pins ', '', '', '', '', '', '', '', '', '', '', '', '', '', '', '', '', '', '', '', '', '', '', '', '', '', '', '', '', '', '', '', '', '', '', '', '', '', '', '', '', '', '', '', '', '', '', '', '', '', '', '', '', '', '', '', '', '', '', '', '', '', '', '', '', '', '', '', '', '', '', '', '', '', '', '', '', '', '', '', '', '', '', '', '', '', '', '', '', '', ' 20 3', '', '', ' 3', '', '1', '', '1 3', '', '1', '', '2 3', '', '2 3', '', '3 Bolts', '', ' nuts and ', '', 'vashers ', '', '', '', '', '', '', '', '', '', '', '', '', '', '', '', '', '', '', '', '', '', '', '', '', '', '', '', '', '', '', '', '', '', '', '', '', '', '', '', '', '', '', '', '', '', '', '', '', '', '', '', '', '', '', '', '', '', '', '', '', '', '', '', '', '', '', '', '', '', '', '', '', '', '', '', '', '', '', '', '', '', '', '', '', '', '', '', '', '', '', '', '', '', '', '', '', '', '', '', '', '', '', '', '', '', '', '', '', '', '', '', '', '', '', '', '', ' 20 General ', '', '', '', '', '', '', '', '', '', '', '', '', '', '', '', '', '', '', '', '', '', '', '', '', '', '', '', '', '', '', '', '', '', '', '', '', '', '', '', '', '', '', '', '', '', '', '', '', '', '', '', '', '', '', '', '', '', '', '', '', '', '', '', '', '', '', '', '', '', '', '', '', '', '', '', '', '', '', '', '', '', '', '', '', '', '', '', '', '', '', '', '', '', '', '', '', '', '', '', '', '', '', '', '', '', '', '', '', '', '', '', '', '', '', '', '', '', '', '', '', '', '', '', '', '', '', '', '', '', '', '', '', '', ' 20 PreJoaded bolts ', '', '', '', '', '', '', '', '', '', '', '', '', '', '', '', '', '', '', '', '', '', '', '', '', '', '', '', '', '', '', '', '', '', '', '', '', '', '', '', '', '', '', '', '', '', '', '', '', '', '', '', '', '', '', '', '', '', '', '', '', '', '', '', '', '', '', '', '', '', '', '', '', '', '', '', '', '', '', '', '', '', '', '', '', '', '', '', '', '', '', '', '', '', '', '', '', '', '', '', '', '', '', '', '', '', '', '', '', '', '', '', '', '', '', '', '', '', '', '', '', '', ' 20 Rivets ', '', '', '', '', '', '', '', '', '', '', '', '', '', '', '', '', '', '', '', '', '', '', '', '', '', '', '', '', '', '', '', '', '', '', '', '', '', '', '', '', '', '', '', '', '', '', '', '', '', '', '', '', '', '', '', '', '', '', '', '', '', '', '', '', '', '', '', '', '', '', '', '', '', '', '', '', '', '', '', '', '', '', '', '', '', '', '', '', '', '', '', '', '', '', '', '', '', '', '', '', '', '', '', '', '', '', '', '', '', '', '', '', '', '', '', '', '', '', '', '', '', '', '', '', '', '', '', '', '', '', '', '', '', '', '', '', '', '', '', '', '', '', '', '', ' 20 Anchor bo1ts ', '', '', '', '', '', '', '', '', '', '', '', '', '', '', '', '', '', '', '', '', '', '', '', '', '', '', '', '', '', '', '', '', '', '', '', '', '', '', '', '', '', '', '', '', '', '', '', '', '', '', '', '', '', '', '', '', '', '', '', '', '', '', '', '', '', '', '', '', '', '', '', '', '', '', '', '', '', '', '', '', '', '', '', '', '', '', '', '', '', '', '', '', '', '', '', '', '', '', '', '', '', '', '', '', '', '', '', '', '', '', '', '', '', '', '', '', '', '', '', '', '', '', '', '', '', '', '', '', '', '', '', '', '', ' 2', '', ' 3', '', '4 Categories ofboJted connections ', '', '', '', '', '', '', '', '', '', '', '', '', '', '', '', '', '', '', '', '', '', '', '', '', '', '', '', '', '', '', '', '', '', '', '', '', '', '', '', '', '', '', '', '', '', '', '', '', '', '', '', '', '', '', '', '', '', '', '', '', '', '', '', '', '', '', '', '', '', '', '', '', '', '', '', '', '', '', '', '', '', '', '', '', '', '', '', '', '', '', '', '', '', '', '', '', '', '', '', '', '', '', ' 21 3', '', '4', '', ' 1 Shear connections ', '', '', '', '', '', '', '', '', '', '', '', '', '', '', '', '', '', '', '', '', '', '', '', '', '', '', '', '', '', '', '', '', '', '', '', '', '', '', '', '', '', '', '', '', '', '', '', '', '', '', '', '', '', '', '', '', '', '', '', '', '', '', '', '', '', '', '', '', '', '', '', '', '', '', '', '', '', '', '', '', '', '', '', '', '', '', '', '', '', '', '', '', '', '', '', '', '', '', '', '', '', '', '', '', '', '', '', '', '', '', '', '', '', '', '', '', '', ' 2', '', ' 3', '', '4', '', '2 Tension connections ', '', '', '', '', '', '', '', '', '', '', '', '', '', '', '', '', '', '', '', '', '', '', '', '', '', '', '', '', '', '', '', '', '', '', '', '', '', '', '', '', '', '', '', '', '', '', '', '', '', '', '', '', '', '', '', '', '', '', '', '', '', '', '', '', '', '', '', '', '', '', '', '', '', '', '', '', '', '', '', '', '', '', '', '', '', '', '', '', '', '', '', '', '', '', '', '', '', '', '', '', '', '', '', '', '', '', '', '', '', '', '', '', '', ' 21 3', '', '5 Positioning of holes for bolts and rivets ', '', '', '', '', '', '', '', '', '', '', '', '', '', '', '', '', '', '', '', '', '', '', '', '', '', '', '', '', '', '', '', '', '', '', '', '', '', '', '', '', '', '', '', '', '', '', '', '', '', '', '', '', '', '', '', '', '', '', '', '', '', '', '', '', '', '', '', '', '', '', '', '', '', '', '', '', '', '', '', '', '', '', '', '', '', '', '', '', '', '', '', ' 23 3', '', '6 Design resistance of individual fasteners ', '', '', '', '', '', '', '', '', '', '', '', '', '', '', '', '', '', '', '', '', '', '', '', '', '', '', '', '', '', '', '', '', '', '', '', '', '', '', '', '', '', '', '', '', '', '', '', '', '', '', '', '', '', '', '', '', '', '', '', '', '', '', '', '', '', '', '', '', '', '', '', '', '', '', '', '', '', '', '', '', '', '', '', '', '', '', '', '', '', ' 24 3', '', '6', '', '1 Bolts and rivets ', '', '', '', '', '', '', '', '', '', '', '', '', '', '', '', '', '', '', '', '', '', '', '', '', '', '', '', '', '', '', '', '', '', '', '', '', '', '', '', '', '', '', '', '', '', '', '', '', '', '', '', '', '', '', '', '', '', '', '', '', '', '', '', '', '', '', '', '', '', '', '', '', '', '', '', '', '', '', '', '', '', '', '', '', '', '', '', '', '', '', '', '', '', '', '', '', '', '', '', '', '', '', '', '', '', '', '', '', '', '', '', '', '', '', '', '', '', '', '', '', '', ' 24 3', '', '6', '', '2 Injection bolts ', '', '', '', '', '', '', '', '', '', '', '', '', '', '', '', '', '', '', '', '', '', '', '', '', '', '', '', '', '', '', '', '', '', '', '', '', '', '', '', '', '', '', '', '', '', '', '', '', '', '', '', '', '', '', '', '', '', '', '', '', '', '', '', '', '', '', '', '', '', '', '', '', '', '', '', '', '', '', '', '', '', '', '', '', '', '', '', '', '', '', '', '', '', '', '', '', '', '', '', '', '', '', '', '', '', '', '', '', '', '', '', '', '', '', '', '', '', '', '', '', '', '', '', ' 28 3', '', '7 Group of fasteners ', '', '', '', '', '', '', '', '', '', '', '', '', '', '', '', '', '', '', '', '', '', '', '', '', '', '', '', '', '', '', '', '', '', '', '', '', '', '', '', '', '', '', '', '', '', '', '', '', '', '', '', '', '', '', '', '', '', '', '', '', '', '', '', '', '', '', '', '', '', '', '', '', '', '', '', '', '', '', '', '', '', '', '', '', '', '', '', '', '', '', '', '', '', '', '', '', '', '', '', '', '', '', '', '', '', '', '', '', '', '', '', '', '', '', '', '', '', '', '', '', '', '', '', '', ' 29 3', '', '8 ', '', 'Longjoints ', '', '', '', '', '', '', '', '', '', '', '', '', '', '', '', '', '', '', '', '', '', '', '', '', '', '', '', '', '', '', '', '', '', '', '', '', '', '', '', '', '', '', '', '', '', '', '', '', '', '', '', '', '', '', '', '', '', '', '', '', '', '', '', '', '', '', '', '', '', '', '', '', '', '', '', '', '', '', '', '', '', '', '', '', '', '', '', '', '', '', '', '', '', '', '', '', '', '', '', '', '', '', '', '', '', '', '', '', '', '', '', '', '', '', '', '', '', '', '', '', '', '', '', '', '', '', '', '', '', '', '', '', '', '', '', '', ' 29 3', '', '9 Slip', '', 'resistant connections using 8', '', '8 or lO', '', '9 bolts ', '', '', '', '', '', '', '', '', '', '', '', '', '', '', '', '', '', '', '', '', '', '', '', '', '', '', '', '', '', '', '', '', '', '', '', '', '', '', '', '', '', '', '', '', '', '', '', '', '', '', '', '', '', '', '', '', '', '', '', '', '', '', '', '', '', '', '', '', '', '', '', '', '', '', '', '', ' 30 3', '', '9', '', ' J Design Slip resistance ', '', '', '', '', '', '', '', '', '', '', '', '', '', '', '', '', '', '', '', '', '', '', '', '', '', '', '', '', '', '', '', '', '', '', '', '', '', '', '', '', '', '', '', '', '', '', '', '', '', '', '', '', '', '', '', '', '', '', '', '', '', '', '', '', '', '', '', '', '', '', '', '', '', '', '', '', '', '', '', '', '', '', '', '', '', '', '', '', '', '', '', '', '', '', '', '', '', '', '', '', '', '', '', '', '', '', '', '', '', '', '', ' 30 3', '', '9', '', '2 Combined tension and shear ', '', '', '', '', '', '', '', '', '', '', '', '', '', '', '', '', '', '', '', '', '', '', '', '', '', '', '', '', '', '', '', '', '', '', '', '', '', '', '', '', '', '', '', '', '', '', '', '', '', '', '', '', '', '', '', '', '', '', '', '', '', '', '', '', '', '', '', '', '', '', '', '', '', '', '', '', '', '', '', '', '', '', '', '', '', '', '', '', '', '', '', '', '', '', '', '', '', '', '', '', '', ' 31 3', '', '9', '', '3 Hybrid cOl1nections ', '', '', '', '', '', '', '', '', '', '', '', '', '', '', '', '', '', '', '', '', '', '', '', '', '', '', '', '', '', '', '', '', '', '', '', '', '', '', '', '', '', '', '', '', '', '', '', '', '', '', '', '', '', '', '', '', '', '', '', '', '', '', '', '', '', '', '', '', '', '', '', '', '', '', '', '', '', '', '', '', '', '', '', '', '', '', '', '', '', '', '', '', '', '', '', '', '', '', '', '', '', '', '', '', '', '', '', '', '', '', '', '', '', '', '', ' 31 3', '', '10 Deductions for fastener holes ', '', '', '', '', '', '', '', '', '', '', '', '', '', '', '', '', '', '', '', '', '', '', '', '', '', '', '', '', '', '', '', '', '', '', '', '', '', '', '', '', '', '', '', '', '', '', '', '', '', '', '', '', '', '', '', '', '', '', '', '', '', '', '', '', '', '', '', '', '', '', '', '', '', '', '', '', '', '', '', '', '', '', '', '', '', '', '', '', '', '', '', '', '', '', '', '', '', '', '', '', '', '', '', '', '', '', '', ' 31 3', '', '10', '', '1 General ', '', '', '', '', '', '', '', '', '', '', '', '', '', '', '', '', '', '', '', '', '', '', '', '', '', '', '', '', '', '', '', '', '', '', '', '', '', '', '', '', '', '', '', '', '', '', '', '', '', '', '', '', '', '', '', '', '', '', '', '', '', '', '', '', '', '', '', '', '', '', '', '', '', '', '', '', '', '', '', '', '', '', '', '', '', '', '', '', '', '', '', '', '', '', '', '', '', '', '', '', '', '', '', '', '', '', '', '', '', '', '', '', '', '', '', '', '', '', '', '', '', '', '', '', '', '', '', '', '', '', '', '', '', ' 31 3', '', '10', '', '2 Design for block tearing ', '', '', '', '', '', '', '', '', '', '', '', '', '', '', '', '', '', '', '', '', '', '', '', '', '', '', '', '', '', '', '', '', '', '', '', '', '', '', '', '', '', '', '', '', '', '', '', '', '', '', '', '', '', '', '', '', '', '', '', '', '', '', '', '', '', '', '', '', '', '', '', '', '', '', '', '', '', '', '', '', '', '', '', '', '', '', '', '', '', '', '', '', '', '', '', '', '', '', '', '', '', '', '', '', '', '', '', ' 32 3', '', '10', '', '3 Angles connected by one and other unsymmetrically connected members in tension ', '', '', '', '', '', '', '', ' 33 3', '', '10', '', '4 Lug ', '', '', '', '', '', '', '', '', '', '', '', '', '', '', '', '', '', '', '', '', '', '', '', '', '', '', '', '', '', '', '', '', '', '', '', '', '', '', '', '', '', '', '', '', '', '', '', '', '', '', '', '', '', '', '', '', '', '', '', '', '', '', '', '', '', '', '', '', '', '', '', '', '', '', '', '', '', '', '', '', '', '', '', '', '', '', '', '', '', '', '', '', '', '', '', '', '', '', '', '', '', '', '', '', '', '', '', '', '', '', '', '', '', '', '', '', '', '', '', '', '', '', '', '', '', '', '', '', ' 34 3', '', '1 J Prying forces ', '', '', '', '', '', '', '', '', '', '', '', '', '', '', '', '', '', '', '', '', '', '', '', '', '', '', '', '', '', '', '', '', '', '', '', '', '', '', '', '', '', '', '', '', '', '', '', '', '', '', '', '', '', '', '', '', '', '', '', '', '', '', '', '', '', '', '', '', '', '', '', '', '', '', '', '', '', '', '', '', '', '', '', '', '', '', '', '', '', '', '', '', '', '', '', '', '', '', '', '', '', '', '', '', '', '', '', '', '', '', '', '', '', '', '', '', '', '', '', '', '', '', '', '', '', '', '', '', '', '', '', '', '', ' 34 3', '', '12 Distr', '', 'ibution of forces between fasteners at the \\nultimate limit state ', '', '', '', '', '', '', '', '', '', '', '', '', '', '', '', '', '', '', '', '', '', '', '', '', '', '', '', '', '', '', '', '', '', '', '', '', '', '', '', '', '', '', '', '', '', '', '', '', '', '', ' 34 3', '', 'J3 Connections made with 3', '', ' J 3', '', '1 General ', '', '', '', '', '', '', '', '', '', '', '', '', '', '', '', '', '', '', '', '', '', '', '', '', '', '', '', '', '', '', '', '', '', '', '', '', '', '', '', '', '', '', '', '', '', '', '', '', '', '', '', '', '', '', '', '', '', '', '', '', '', '', '', '', '', '', '', '', '', '', '', '', '', '', '', '', '', '', '', '', '', '', '', '', '', '', '', '', '', '', '', '', '', '', '', '', '', '', '', '', '', '', '', '', '', '', '', '', '', '', '', '', '', '', '', '', '', '', '', '', '', '', '', '', '', '', '', '', '', '', '', '', '', ' 35 3', '', '13', '', '2 Design of pins ', '', '', '', '', '', '', '', '', '', '', '', '', '', '', '', '', '', '', '', '', '', '', '', '', '', '', '', '', '', '', '', '', '', '', '', '', '', '', '', '', '', '', '', '', '', '', '', '', '', '', '', '', '', '', '', '', '', '', '', '', '', '', '', '', '', '', '', '', '', '', '', '', '', '', '', '', '', '', '', '', '', '', '', '', '', '', '', '', '', '', '', '', '', '', '', '', '', '', '', '', '', '', '', '', '', '', '', '', '', '', '', '', '', '', '', '', '', '', '', '', '', '', '', ' 35 4 ', '', 'Velded connections ', '', '', '', '', '', '', '', '', '', '', '', '', '', '', '', '', '', '', '', '', '', '', '', '', '', '', '', '', '', '', '', '', '', '', '', '', '', '', '', '', '', '', '', '', '', '', '', '', '', '', '', '', '', '', '', '', '', '', '', '', '', '', '', '', '', '', '', '', '', '', '', '', '', '', '', '', '', '', '', '', '', '', '', '', '', '', '', '', '', '', '', '', '', '', '', '', '', '', '', '', '', '', '', '', '', '', '', '', '', '', '', '', '', '', '', '', '', '', '', '', '', '', '', '', '', '', '', '', ' 38 4', '', '1 General ', '', '', '', '', '', '', '', '', '', '', '', '', '', '', '', '', '', '', '', '', '', '', '', '', '', '', '', '', '', '', '', '', '', '', '', '', '', '', '', '', '', '', '', '', '', '', '', '', '', '', '', '', '', '', '', '', '', '', '', '', '', '', '', '', '', '', '', '', '', '', '', '', '', '', '', '', '', '', '', '', '', '', '', '', '', '', '', '', '', '', '', '', '', '', '', '', '', '', '', '', '', '', '', '', '', '', '', '', '', '', '', '', '', '', '', '', '', '', '', '', '', '', '', '', '', '', '', '', '', '', '', '', '', '', '', '', '', '', '', '', '', ' 38 4', '', '2 Welding consu1l1ables ', '', '', '', '', '', '', '', '', '', '', '', '', '', '', '', '', '', '', '', '', '', '', '', '', '', '', '', '', '', '', '', '', '', '', '', '', '', '', '', '', '', '', '', '', '', '', '', '', '', '', '', '', '', '', '', '', '', '', '', '', '', '', '', '', '', '', '', '', '', '', '', '', '', '', '', '', '', '', '', '', '', '', '', '', '', '', '', '', '', '', '', '', '', '', '', '', '', '', '', '', '', '', '', '', '', '', '', '', '', '', '', '', '', '', '', '', '', '', '', ' 38 4', '', '3 Geollle1ry and dilnensions ', '', '', '', '', '', '', '', '', '', '', '', '', '', '', '', '', '', '', '', '', '', '', '', '', '', '', '', '', '', '', '', '', '', '', '', '', '', '', '', '', '', '', '', '', '', '', '', '', '', '', '', '', '', '', '', '', '', '', '', '', '', '', '', '', '', '', '', '', '', '', '', '', '', '', '', '', '', '', '', '', '', '', '', '', '', '', '', '', '', '', '', '', '', '', '', '', '', '', '', '', '', '', '', '', '', '', '', '', '', '', '', '', ' 38 4', '', '3', '', '', ' Typeof', '', 'veld ', '', '', '', '', '', '', '', '', '', '', '', '', '', '', '', '', '', '', '', '', '', '', '', '', '', '', '', '', '', '', '', '', '', '', '', '', '', '', '', '', '', '', '', '', '', '', '', '', '', '', '', '', '', '', '', '', '', '', '', '', '', '', '', '', '', '', '', '', '', '', '', '', '', '', '', '', '', '', '', '', '', '', '', '', '', '', '', '', '', '', '', '', '', '', '', '', '', '', '', '', '', '', '', '', '', '', '', '', '', '', '', '', '', '', '', '', '', '', '', '', '', '', '', '', '', ' 38 4', '', '3', '', '2 Fillet welds ', '', '', '', '', '', '', '', '', '', '', '', '', '', '', '', '', '', '', '', '', '', '', '', '', '', '', '', '', '', '', '', '', '', '', '', '', '', '', '', '', '', '', '', '', '', '', '', '', '', '', '', '', '', '', '', '', '', '', '', '', '', '', '', '', '', '', '', '', '', '', '', '', '', '', '', '', '', '', '', '', '', '', '', '', '', '', '', '', '', '', '', '', '', '', '', '', '', '', '', '', '', '', '', '', '', '', '', '', '', '', '', '', '', '', '', '', '', '', '', '', '', '', '', '', '', '', '', ' 38 4', '', '3', '', '3 fillet ', '', 've1ds all rOLlnd ', '', '', '', '', '', '', '', '', '', '', '', '', '', '', '', '', '', '', '', '', '', '', '', '', '', '', '', '', '', '', '', '', '', '', '', '', '', '', '', '', '', '', '', '', '', '', '', '', '', '', '', '', '', '', '', '', '', '', '', '', '', '', '', '', '', '', '', '', '', '', '', '', '', '', '', '', '', '', '', '', '', '', '', '', '', '', '', '', '', '', '', '', '', '', '', '', '', '', '', '', '', '', '', '', '', '', '', '', '', '', '', '', ' 40 4', '', '3', '', '4 Butt ', '', '', 'velds ', '', '', '', '', '', '', '', '', '', '', '', '', '', '', '', '', '', '', '', '', '', '', '', '', '', '', '', '', '', '', '', '', '', '', '', '', '', '', '', '', '', '', '', '', '', '', '', '', '', '', '', '', '', '', '', '', '', '', '', '', '', '', '', '', '', '', '', '', '', '', '', '', '', '', '', '', '', '', '', '', '', '', '', '', '', '', '', '', '', '', '', '', '', '', '', '', '', '', '', '', '', '', '', '', '', '', '', '', '', '', '', '', '', '', '', '', '', '', '', '', '', '', '', '', '', '', '', '', '', ' 40 4', '', '3', '', '5 Plug vvelds ', '', '', '', '', '', '', '', '', '', '', '', '', '', '', '', '', '', '', '', '', '', '', '', '', '', '', '', '', '', '', '', '', '', '', '', '', '', '', '', '', '', '', '', '', '', '', '', '', '', '', '', '', '', '', '', '', '', '', '', '', '', '', '', '', '', '', '', '', '', '', '', '', '', '', '', '', '', '', '', '', '', '', '', '', '', '', '', '', '', '', '', '', '', '', '', '', '', '', '', '', '', '', '', '', '', '', '', '', '', '', '', '', '', '', '', '', '', '', '', '', '', '', '', '', '', '', '', '', ' 41 2 ', '']\n",
            "6071\n"
          ],
          "name": "stdout"
        }
      ]
    },
    {
      "cell_type": "markdown",
      "metadata": {
        "id": "O77e0yMuG4IA",
        "colab_type": "text"
      },
      "source": [
        "**2.3 Separator**"
      ]
    },
    {
      "cell_type": "code",
      "metadata": {
        "id": "EUiY7ikcCtuI",
        "colab_type": "code",
        "colab": {
          "base_uri": "https://localhost:8080/",
          "height": 72
        },
        "outputId": "42058520-9cdf-4126-8e8e-e468aceadc8e"
      },
      "source": [
        "tocList=re.findall('\\.{2,}',pages[3])\n",
        "print(tocList)\n",
        "print(len(tocList))"
      ],
      "execution_count": null,
      "outputs": [
        {
          "output_type": "stream",
          "text": [
            "['.............................................................................................................................................', '.................................................................................................................................................', '.........................................................................................................................', '....................................................................', '.......................................................................................................................', '............................................................................................................................................', '.........................................................................................................................................', '.....................................................................................................................................', '........................................................................................................................', '............................................................................................................', '...........................................................................................................................', '..........................................................................................................................', '..........................................', '..............................................................................................................', '.........................................................................................', '....................................................................................................................', '.....................................................................................................................................', '.........................................................................................................................', '................................................................................................................................................', '.....................................................................................................................................', '......................................................................................................', '.....................................................................................................................', '.................................................................................................................', '...........................................................................................', '.........................................................................................', '.........................................................................................................................', '...........................................................................................................................', '............................................................................................................................', '........................................................................................................................................', '............................................................................', '...............................................................................................................', '.....................................................................................................', '...................................................................................................................', '...........................................................................................................', '.....................................................................................................................................', '...........................................................................................................', '.......', '................................................................................................................................', '.....................................................................................................................................', '..................................................', '.....................................................................................................................................', '...........................................................................................................................', '................................................................................................................................', '.............................................................................................................................................', '.......................................................................................................................', '................................................................................................................', '.............................................................................................................................', '...............................................................................................................................', '................................................................................................................', '.................................................................................................................................', '................................................................................................................................']\n",
            "51\n"
          ],
          "name": "stdout"
        }
      ]
    },
    {
      "cell_type": "markdown",
      "metadata": {
        "id": "dwb9SQmhQEI6",
        "colab_type": "text"
      },
      "source": [
        "# Close PDF"
      ]
    },
    {
      "cell_type": "code",
      "metadata": {
        "id": "5JPVNXqMLRPZ",
        "colab_type": "code",
        "colab": {}
      },
      "source": [
        "pdfFile.close()"
      ],
      "execution_count": null,
      "outputs": []
    }
  ]
}