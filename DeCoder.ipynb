{
  "nbformat": 4,
  "nbformat_minor": 0,
  "metadata": {
    "colab": {
      "name": "Te damos la bienvenida a Colaboratory",
      "provenance": [],
      "collapsed_sections": [],
      "toc_visible": true,
      "include_colab_link": true
    },
    "kernelspec": {
      "display_name": "Python 3",
      "name": "python3"
    },
    "accelerator": "GPU"
  },
  "cells": [
    {
      "cell_type": "markdown",
      "metadata": {
        "id": "view-in-github",
        "colab_type": "text"
      },
      "source": [
        "<a href=\"https://colab.research.google.com/github/luiscaballeroramos/DeCoder/blob/EC3_1_8_DesignOfJoints/DeCoder.ipynb\" target=\"_parent\"><img src=\"https://colab.research.google.com/assets/colab-badge.svg\" alt=\"Open In Colab\"/></a>"
      ]
    },
    {
      "cell_type": "markdown",
      "metadata": {
        "id": "q2EDzXG0RvSb",
        "colab_type": "text"
      },
      "source": [
        "# 0. Preliminary Tasks"
      ]
    },
    {
      "cell_type": "markdown",
      "metadata": {
        "id": "PufMfJubJbAx",
        "colab_type": "text"
      },
      "source": [
        "Install and import PyPDF2 library to open and read the PDF file containing the code"
      ]
    },
    {
      "cell_type": "code",
      "metadata": {
        "id": "zLUSLc-tA0_H",
        "colab_type": "code",
        "colab": {
          "base_uri": "https://localhost:8080/",
          "height": 34
        },
        "outputId": "5c48058b-4a88-4f1f-8542-d3aa3cbab0bb"
      },
      "source": [
        "!pip install PyPDF2\n",
        "import PyPDF2"
      ],
      "execution_count": 34,
      "outputs": [
        {
          "output_type": "stream",
          "text": [
            "Requirement already satisfied: PyPDF2 in /usr/local/lib/python3.6/dist-packages (1.26.0)\n"
          ],
          "name": "stdout"
        }
      ]
    },
    {
      "cell_type": "markdown",
      "metadata": {
        "id": "6in-bcdRJofT",
        "colab_type": "text"
      },
      "source": [
        "Clone the GitHub repository containing the PDF file with code"
      ]
    },
    {
      "cell_type": "code",
      "metadata": {
        "id": "wiBWTI6uWCSo",
        "colab_type": "code",
        "colab": {
          "base_uri": "https://localhost:8080/",
          "height": 158
        },
        "outputId": "4b295eef-0492-41a0-ea05-e7c44a5c2bec"
      },
      "source": [
        "# Clone the entire repo.\n",
        "!git clone -b EC3_1_8_DesignOfJoints https://github.com/luiscaballeroramos/DeCoder.git DeCoder\n",
        "# Change directory into cloned repo\n",
        "%cd DeCoder\n",
        "\n",
        "import DeCoder_Auxiliary"
      ],
      "execution_count": 35,
      "outputs": [
        {
          "output_type": "stream",
          "text": [
            "Cloning into 'DeCoder'...\n",
            "remote: Enumerating objects: 155, done.\u001b[K\n",
            "remote: Counting objects:   0% (1/155)\u001b[K\rremote: Counting objects:   1% (2/155)\u001b[K\rremote: Counting objects:   2% (4/155)\u001b[K\rremote: Counting objects:   3% (5/155)\u001b[K\rremote: Counting objects:   4% (7/155)\u001b[K\rremote: Counting objects:   5% (8/155)\u001b[K\rremote: Counting objects:   6% (10/155)\u001b[K\rremote: Counting objects:   7% (11/155)\u001b[K\rremote: Counting objects:   8% (13/155)\u001b[K\rremote: Counting objects:   9% (14/155)\u001b[K\rremote: Counting objects:  10% (16/155)\u001b[K\rremote: Counting objects:  11% (18/155)\u001b[K\rremote: Counting objects:  12% (19/155)\u001b[K\rremote: Counting objects:  13% (21/155)\u001b[K\rremote: Counting objects:  14% (22/155)\u001b[K\rremote: Counting objects:  15% (24/155)\u001b[K\rremote: Counting objects:  16% (25/155)\u001b[K\rremote: Counting objects:  17% (27/155)\u001b[K\rremote: Counting objects:  18% (28/155)\u001b[K\rremote: Counting objects:  19% (30/155)\u001b[K\rremote: Counting objects:  20% (31/155)\u001b[K\rremote: Counting objects:  21% (33/155)\u001b[K\rremote: Counting objects:  22% (35/155)\u001b[K\rremote: Counting objects:  23% (36/155)\u001b[K\rremote: Counting objects:  24% (38/155)\u001b[K\rremote: Counting objects:  25% (39/155)\u001b[K\rremote: Counting objects:  26% (41/155)\u001b[K\rremote: Counting objects:  27% (42/155)\u001b[K\rremote: Counting objects:  28% (44/155)\u001b[K\rremote: Counting objects:  29% (45/155)\u001b[K\rremote: Counting objects:  30% (47/155)\u001b[K\rremote: Counting objects:  31% (49/155)\u001b[K\rremote: Counting objects:  32% (50/155)\u001b[K\rremote: Counting objects:  33% (52/155)\u001b[K\rremote: Counting objects:  34% (53/155)\u001b[K\rremote: Counting objects:  35% (55/155)\u001b[K\rremote: Counting objects:  36% (56/155)\u001b[K\rremote: Counting objects:  37% (58/155)\u001b[K\rremote: Counting objects:  38% (59/155)\u001b[K\rremote: Counting objects:  39% (61/155)\u001b[K\rremote: Counting objects:  40% (62/155)\u001b[K\rremote: Counting objects:  41% (64/155)\u001b[K\rremote: Counting objects:  42% (66/155)\u001b[K\rremote: Counting objects:  43% (67/155)\u001b[K\rremote: Counting objects:  44% (69/155)\u001b[K\rremote: Counting objects:  45% (70/155)\u001b[K\rremote: Counting objects:  46% (72/155)\u001b[K\rremote: Counting objects:  47% (73/155)\u001b[K\rremote: Counting objects:  48% (75/155)\u001b[K\rremote: Counting objects:  49% (76/155)\u001b[K\rremote: Counting objects:  50% (78/155)\u001b[K\rremote: Counting objects:  51% (80/155)\u001b[K\rremote: Counting objects:  52% (81/155)\u001b[K\rremote: Counting objects:  53% (83/155)\u001b[K\rremote: Counting objects:  54% (84/155)\u001b[K\rremote: Counting objects:  55% (86/155)\u001b[K\rremote: Counting objects:  56% (87/155)\u001b[K\rremote: Counting objects:  57% (89/155)\u001b[K\rremote: Counting objects:  58% (90/155)\u001b[K\rremote: Counting objects:  59% (92/155)\u001b[K\rremote: Counting objects:  60% (93/155)\u001b[K\rremote: Counting objects:  61% (95/155)\u001b[K\rremote: Counting objects:  62% (97/155)\u001b[K\rremote: Counting objects:  63% (98/155)\u001b[K\rremote: Counting objects:  64% (100/155)\u001b[K\rremote: Counting objects:  65% (101/155)\u001b[K\rremote: Counting objects:  66% (103/155)\u001b[K\rremote: Counting objects:  67% (104/155)\u001b[K\rremote: Counting objects:  68% (106/155)\u001b[K\rremote: Counting objects:  69% (107/155)\u001b[K\rremote: Counting objects:  70% (109/155)\u001b[K\rremote: Counting objects:  71% (111/155)\u001b[K\rremote: Counting objects:  72% (112/155)\u001b[K\rremote: Counting objects:  73% (114/155)\u001b[K\rremote: Counting objects:  74% (115/155)\u001b[K\rremote: Counting objects:  75% (117/155)\u001b[K\rremote: Counting objects:  76% (118/155)\u001b[K\rremote: Counting objects:  77% (120/155)\u001b[K\rremote: Counting objects:  78% (121/155)\u001b[K\rremote: Counting objects:  79% (123/155)\u001b[K\rremote: Counting objects:  80% (124/155)\u001b[K\rremote: Counting objects:  81% (126/155)\u001b[K\rremote: Counting objects:  82% (128/155)\u001b[K\rremote: Counting objects:  83% (129/155)\u001b[K\rremote: Counting objects:  84% (131/155)\u001b[K\rremote: Counting objects:  85% (132/155)\u001b[K\rremote: Counting objects:  86% (134/155)\u001b[K\rremote: Counting objects:  87% (135/155)\u001b[K\rremote: Counting objects:  88% (137/155)\u001b[K\rremote: Counting objects:  89% (138/155)\u001b[K\rremote: Counting objects:  90% (140/155)\u001b[K\rremote: Counting objects:  91% (142/155)\u001b[K\rremote: Counting objects:  92% (143/155)\u001b[K\rremote: Counting objects:  93% (145/155)\u001b[K\rremote: Counting objects:  94% (146/155)\u001b[K\rremote: Counting objects:  95% (148/155)\u001b[K\rremote: Counting objects:  96% (149/155)\u001b[K\rremote: Counting objects:  97% (151/155)\u001b[K\rremote: Counting objects:  98% (152/155)\u001b[K\rremote: Counting objects:  99% (154/155)\u001b[K\rremote: Counting objects: 100% (155/155)\u001b[K\rremote: Counting objects: 100% (155/155), done.\u001b[K\n",
            "remote: Compressing objects: 100% (154/154), done.\u001b[K\n",
            "remote: Total 155 (delta 103), reused 0 (delta 0), pack-reused 0\u001b[K\n",
            "Receiving objects: 100% (155/155), 3.69 MiB | 6.85 MiB/s, done.\n",
            "Resolving deltas: 100% (103/103), done.\n",
            "/content/DeCoder/DeCoder/DeCoder/DeCoder/DeCoder\n"
          ],
          "name": "stdout"
        }
      ]
    },
    {
      "cell_type": "markdown",
      "metadata": {
        "id": "5nU2KtuvJ5GF",
        "colab_type": "text"
      },
      "source": [
        "Import libraries used in this tool"
      ]
    },
    {
      "cell_type": "code",
      "metadata": {
        "id": "I1ZEKl7fTO9c",
        "colab_type": "code",
        "colab": {}
      },
      "source": [
        "import numpy as np\n",
        "import regex as re\n",
        "from tabulate import tabulate"
      ],
      "execution_count": 36,
      "outputs": []
    },
    {
      "cell_type": "markdown",
      "metadata": {
        "id": "Sz_G46GVIF7B",
        "colab_type": "text"
      },
      "source": [
        "# 1. Read PDF\n",
        "\n",
        "Read the .pdf file with PyPF2 library"
      ]
    },
    {
      "cell_type": "code",
      "metadata": {
        "id": "S342P1RjLBm0",
        "colab_type": "code",
        "colab": {}
      },
      "source": [
        "pdfFile=open('EC 1993.1.8.2005-1.pdf','rb')\n",
        "pdfReader=PyPDF2.PdfFileReader(pdfFile)"
      ],
      "execution_count": 37,
      "outputs": []
    },
    {
      "cell_type": "code",
      "metadata": {
        "id": "dQw9xHOVLVBM",
        "colab_type": "code",
        "colab": {
          "base_uri": "https://localhost:8080/",
          "height": 34
        },
        "outputId": "fa9a1353-fadc-4a83-a16a-0d31102188e5"
      },
      "source": [
        "numPages=pdfReader.numPages\n",
        "print(numPages)"
      ],
      "execution_count": 38,
      "outputs": [
        {
          "output_type": "stream",
          "text": [
            "135\n"
          ],
          "name": "stdout"
        }
      ]
    },
    {
      "cell_type": "markdown",
      "metadata": {
        "id": "5cJkLwYbKZjh",
        "colab_type": "text"
      },
      "source": [
        "Get the pages content as dictionary (pages) with:\n",
        "* key = page number (pageNum)\n",
        "* value = page content as string (pageContent)\n",
        "\n"
      ]
    },
    {
      "cell_type": "code",
      "metadata": {
        "id": "TAnRzPNXOHM1",
        "colab_type": "code",
        "colab": {}
      },
      "source": [
        "pages={}\n",
        "pageContent=''\n",
        "for pageNum in range(0,numPages):\n",
        "  pdfPage=pdfReader.getPage(pageNum)\n",
        "  pageContent=pdfPage.extractText()\n",
        "  pages[pageNum]=pageContent\n",
        "  pass"
      ],
      "execution_count": 39,
      "outputs": []
    },
    {
      "cell_type": "markdown",
      "metadata": {
        "id": "2mu4xLtUYInb",
        "colab_type": "text"
      },
      "source": [
        "# 2. Table Of Contents (TOC)\n",
        "2.0. TOC Definition (settings)\n",
        "\n",
        "2.1. TOC Location (pages)\n",
        "\n",
        "2.2. TOC Contents (toc's)"
      ]
    },
    {
      "cell_type": "markdown",
      "metadata": {
        "id": "LC1Sm60AUMmZ",
        "colab_type": "text"
      },
      "source": [
        "# 2.0. TOC Definition"
      ]
    },
    {
      "cell_type": "markdown",
      "metadata": {
        "id": "RkerAtNbLTKh",
        "colab_type": "text"
      },
      "source": [
        "Set TOC identifiers, keywords that could be used to refering TOC"
      ]
    },
    {
      "cell_type": "code",
      "metadata": {
        "id": "9fF57ToRMz1A",
        "colab_type": "code",
        "colab": {}
      },
      "source": [
        "TOCidentifiers=['contents','Contents',\n",
        "                 'table of contents','Table of contents','Table Of Contents']"
      ],
      "execution_count": 40,
      "outputs": []
    },
    {
      "cell_type": "markdown",
      "metadata": {
        "id": "1l22DtXCG_XA",
        "colab_type": "text"
      },
      "source": [
        "Description of toc elements by regex expressions "
      ]
    },
    {
      "cell_type": "code",
      "metadata": {
        "id": "oj7ihYnISKQI",
        "colab_type": "code",
        "colab": {}
      },
      "source": [
        "refidRegex='\\d'\n",
        "refsepRegex='\\.'\n",
        "refsep='.'\n",
        "namRegex='[\\s\\w]*'\n",
        "sepRegex='\\.{2,}'\n",
        "numRegex='\\d+'"
      ],
      "execution_count": 41,
      "outputs": []
    },
    {
      "cell_type": "code",
      "metadata": {
        "id": "2bTT4LzJZyNj",
        "colab_type": "code",
        "colab": {}
      },
      "source": [
        "\n",
        "\n",
        "\n",
        "\n",
        "TOC_EC3=DeCoder_Auxiliary.TOC(refidRegex,refsepRegex,refsep,namRegex,sepRegex,numRegex)"
      ],
      "execution_count": 42,
      "outputs": []
    },
    {
      "cell_type": "code",
      "metadata": {
        "id": "rXW96EKaZChz",
        "colab_type": "code",
        "colab": {}
      },
      "source": [
        "\n",
        "\n",
        "\n"
      ],
      "execution_count": 20,
      "outputs": []
    },
    {
      "cell_type": "code",
      "metadata": {
        "id": "A1zfawouTr5a",
        "colab_type": "code",
        "colab": {}
      },
      "source": [
        ""
      ],
      "execution_count": 21,
      "outputs": []
    },
    {
      "cell_type": "markdown",
      "metadata": {
        "id": "Wo4e4b0rRRQc",
        "colab_type": "text"
      },
      "source": [
        "# 2.1. TOC Location"
      ]
    },
    {
      "cell_type": "markdown",
      "metadata": {
        "id": "wJOnQENhLyY_",
        "colab_type": "text"
      },
      "source": [
        "TOC identifiers apearances in each document page "
      ]
    },
    {
      "cell_type": "code",
      "metadata": {
        "id": "9AxQQczRLyyB",
        "colab_type": "code",
        "colab": {}
      },
      "source": [
        "TOCcoincidences={}\n",
        "TOCtotalCoincidences={}\n",
        "for pageNum, pageContent in pages.items():\n",
        "  aux=[]\n",
        "  for TOCidentifier in TOCidentifiers:\n",
        "    aux.append(pageContent.count(TOCidentifier))\n",
        "    pass\n",
        "  TOCcoincidences[pageNum]=aux\n",
        "  TOCtotalCoincidences[pageNum]=sum(aux)\n",
        "  pass"
      ],
      "execution_count": 43,
      "outputs": []
    },
    {
      "cell_type": "markdown",
      "metadata": {
        "id": "GSSQ3zPZPYeG",
        "colab_type": "text"
      },
      "source": [
        "Total of TOC identifiers apearances in PDF document"
      ]
    },
    {
      "cell_type": "code",
      "metadata": {
        "id": "7mf3Wz-J8vIe",
        "colab_type": "code",
        "colab": {
          "base_uri": "https://localhost:8080/",
          "height": 34
        },
        "outputId": "5800cf06-e40b-4639-b8e2-73f4b456aa45"
      },
      "source": [
        "sumTOCTotalCoincidences=sum(TOCtotalCoincidences.values())\n",
        "print('Number of TOC indentifiers: {0}'.format(sumTOCTotalCoincidences))"
      ],
      "execution_count": 44,
      "outputs": [
        {
          "output_type": "stream",
          "text": [
            "Number of TOC indentifiers: 1\n"
          ],
          "name": "stdout"
        }
      ]
    },
    {
      "cell_type": "markdown",
      "metadata": {
        "id": "FsKcRtGePjL0",
        "colab_type": "text"
      },
      "source": [
        "Max TOC identifiers apearances in one page and the page where this happens"
      ]
    },
    {
      "cell_type": "code",
      "metadata": {
        "id": "oyVuUAJ88yDx",
        "colab_type": "code",
        "colab": {
          "base_uri": "https://localhost:8080/",
          "height": 52
        },
        "outputId": "2c0f3e31-c6c2-45d6-dbce-8bd63c79cf90"
      },
      "source": [
        "maxTOCTotalCoincidences=max(TOCtotalCoincidences.values())\n",
        "maxTOCTotalCoincidencesPages = [key  for (key, value) in TOCtotalCoincidences.items() if value == maxTOCTotalCoincidences]\n",
        "print('Number of Max TOC indentifiers in One Page: {0}'.format(maxTOCTotalCoincidences))\n",
        "print('Pages with Max TOC indentifiers in One Page: {0}'.format(maxTOCTotalCoincidencesPages))"
      ],
      "execution_count": 45,
      "outputs": [
        {
          "output_type": "stream",
          "text": [
            "Number of Max TOC indentifiers in One Page: 1\n",
            "Pages with Max TOC indentifiers in One Page: [3]\n"
          ],
          "name": "stdout"
        }
      ]
    },
    {
      "cell_type": "markdown",
      "metadata": {
        "id": "36xV1zkuectm",
        "colab_type": "text"
      },
      "source": [
        "Pages where toc pattern (Regex) is detected"
      ]
    },
    {
      "cell_type": "code",
      "metadata": {
        "colab_type": "code",
        "id": "KjtBxwYrazHV",
        "colab": {}
      },
      "source": [
        "tocCoincidences={}\n",
        "for pageNum, pageContent in pages.items():\n",
        "  tocCoincidences[pageNum]=len(re.findall(TOC_EC3.tocRegex,pages[pageNum]))\n",
        "  pass"
      ],
      "execution_count": 46,
      "outputs": []
    },
    {
      "cell_type": "code",
      "metadata": {
        "colab_type": "code",
        "id": "iQmfUyrKdnCy",
        "colab": {
          "base_uri": "https://localhost:8080/",
          "height": 34
        },
        "outputId": "1c721d1a-7c8a-4b56-ebd6-40fd5ede3413"
      },
      "source": [
        "noNulltocCoincidencesPages = [key  for (key, value) in tocCoincidences.items() if value != 0]\n",
        "print('Pages with toc Regex: {0}'.format(noNulltocCoincidencesPages))"
      ],
      "execution_count": 47,
      "outputs": [
        {
          "output_type": "stream",
          "text": [
            "Pages with toc Regex: [3, 4, 5]\n"
          ],
          "name": "stdout"
        }
      ]
    },
    {
      "cell_type": "code",
      "metadata": {
        "id": "qud5znLCfctF",
        "colab_type": "code",
        "colab": {}
      },
      "source": [
        "TOCpages=noNulltocCoincidencesPages"
      ],
      "execution_count": 48,
      "outputs": []
    },
    {
      "cell_type": "markdown",
      "metadata": {
        "id": "6KrxcR7HRlnM",
        "colab_type": "text"
      },
      "source": [
        "# 2.2. TOC Contents"
      ]
    },
    {
      "cell_type": "markdown",
      "metadata": {
        "id": "QKSj_1GdvTp8",
        "colab_type": "text"
      },
      "source": [
        "Look for complete tocRegex in TOCpages"
      ]
    },
    {
      "cell_type": "code",
      "metadata": {
        "id": "2rVp7MBs_QC4",
        "colab_type": "code",
        "colab": {
          "base_uri": "https://localhost:8080/",
          "height": 363
        },
        "outputId": "535236a4-64bb-4026-a41a-17ae8d3e7813"
      },
      "source": [
        "pattern = re.compile(TOC_EC3.tocRegex)\n",
        "for page in TOCpages:\n",
        "  for match in pattern.finditer(pages[page]):\n",
        "    [split1,split2]=re.split(TOC_EC3.sepRegex,match.group())\n",
        "    ref=re.search(TOC_EC3.refRegex,split1).group()\n",
        "    split1=re.sub(TOC_EC3.refRegex,'',split1)\n",
        "    nam=re.search(TOC_EC3.namRegex,split1).group()\n",
        "    split1=re.sub(TOC_EC3.namRegex,'',split1)\n",
        "    num=re.search(TOC_EC3.numRegex,split2).group()\n",
        "    beginLocation=DeCoder_Auxiliary.PDFlocation(num)\n",
        "    refsep=TOC_EC3.refsep\n",
        "    toc_EC3=DeCoder_Auxiliary.toc(ref,refsep,nam,beginLocation)\n",
        "    TOC_EC3.addToc(toc_EC3)\n",
        "    pass\n",
        "  pass\n",
        "TOC_EC3.tocList.sort(key=lambda x: x.ref, reverse=False)\n",
        "TOC_EC3.printTOC()"
      ],
      "execution_count": 49,
      "outputs": [
        {
          "output_type": "error",
          "ename": "NameError",
          "evalue": "ignored",
          "traceback": [
            "\u001b[0;31m---------------------------------------------------------------------------\u001b[0m",
            "\u001b[0;31mNameError\u001b[0m                                 Traceback (most recent call last)",
            "\u001b[0;32m<ipython-input-49-b85a521f5ce6>\u001b[0m in \u001b[0;36m<module>\u001b[0;34m()\u001b[0m\n\u001b[1;32m     10\u001b[0m     \u001b[0mbeginLocation\u001b[0m\u001b[0;34m=\u001b[0m\u001b[0mDeCoder_Auxiliary\u001b[0m\u001b[0;34m.\u001b[0m\u001b[0mPDFlocation\u001b[0m\u001b[0;34m(\u001b[0m\u001b[0mnum\u001b[0m\u001b[0;34m)\u001b[0m\u001b[0;34m\u001b[0m\u001b[0;34m\u001b[0m\u001b[0m\n\u001b[1;32m     11\u001b[0m     \u001b[0mrefsep\u001b[0m\u001b[0;34m=\u001b[0m\u001b[0mTOC_EC3\u001b[0m\u001b[0;34m.\u001b[0m\u001b[0mrefsep\u001b[0m\u001b[0;34m\u001b[0m\u001b[0;34m\u001b[0m\u001b[0m\n\u001b[0;32m---> 12\u001b[0;31m     \u001b[0mtoc_EC3\u001b[0m\u001b[0;34m=\u001b[0m\u001b[0mDeCoder_Auxiliary\u001b[0m\u001b[0;34m.\u001b[0m\u001b[0mtoc\u001b[0m\u001b[0;34m(\u001b[0m\u001b[0mref\u001b[0m\u001b[0;34m,\u001b[0m\u001b[0mrefsep\u001b[0m\u001b[0;34m,\u001b[0m\u001b[0mnam\u001b[0m\u001b[0;34m,\u001b[0m\u001b[0mbeginLocation\u001b[0m\u001b[0;34m)\u001b[0m\u001b[0;34m\u001b[0m\u001b[0;34m\u001b[0m\u001b[0m\n\u001b[0m\u001b[1;32m     13\u001b[0m     \u001b[0mTOC_EC3\u001b[0m\u001b[0;34m.\u001b[0m\u001b[0maddToc\u001b[0m\u001b[0;34m(\u001b[0m\u001b[0mtoc_EC3\u001b[0m\u001b[0;34m)\u001b[0m\u001b[0;34m\u001b[0m\u001b[0;34m\u001b[0m\u001b[0m\n\u001b[1;32m     14\u001b[0m     \u001b[0;32mpass\u001b[0m\u001b[0;34m\u001b[0m\u001b[0;34m\u001b[0m\u001b[0m\n",
            "\u001b[0;32m/content/DeCoder/DeCoder_Auxiliary.py\u001b[0m in \u001b[0;36m__init__\u001b[0;34m(self, ref, refsep, name, begin, end, level)\u001b[0m\n\u001b[1;32m     58\u001b[0m \u001b[0;32mclass\u001b[0m \u001b[0mtoc\u001b[0m\u001b[0;34m(\u001b[0m\u001b[0;34m)\u001b[0m\u001b[0;34m:\u001b[0m\u001b[0;34m\u001b[0m\u001b[0;34m\u001b[0m\u001b[0m\n\u001b[1;32m     59\u001b[0m   \u001b[0;32mdef\u001b[0m \u001b[0m__init__\u001b[0m\u001b[0;34m(\u001b[0m\u001b[0mself\u001b[0m\u001b[0;34m,\u001b[0m\u001b[0mref\u001b[0m\u001b[0;34m,\u001b[0m\u001b[0mrefsep\u001b[0m\u001b[0;34m,\u001b[0m\u001b[0mname\u001b[0m\u001b[0;34m,\u001b[0m\u001b[0mbegin\u001b[0m\u001b[0;34m=\u001b[0m\u001b[0;32mNone\u001b[0m\u001b[0;34m,\u001b[0m\u001b[0mend\u001b[0m\u001b[0;34m=\u001b[0m\u001b[0;32mNone\u001b[0m\u001b[0;34m,\u001b[0m\u001b[0mlevel\u001b[0m\u001b[0;34m=\u001b[0m\u001b[0;32mNone\u001b[0m\u001b[0;34m)\u001b[0m\u001b[0;34m:\u001b[0m\u001b[0;34m\u001b[0m\u001b[0;34m\u001b[0m\u001b[0m\n\u001b[0;32m---> 60\u001b[0;31m     \u001b[0mself\u001b[0m\u001b[0;34m.\u001b[0m\u001b[0mref\u001b[0m\u001b[0;34m=\u001b[0m\u001b[0mjoin\u001b[0m\u001b[0;34m(\u001b[0m\u001b[0mlist\u001b[0m\u001b[0;34m(\u001b[0m\u001b[0mfilter\u001b[0m\u001b[0;34m(\u001b[0m\u001b[0;32mlambda\u001b[0m \u001b[0mitem\u001b[0m\u001b[0;34m:\u001b[0m \u001b[0mitem\u001b[0m\u001b[0;34m,\u001b[0m \u001b[0mre\u001b[0m\u001b[0;34m.\u001b[0m\u001b[0msplit\u001b[0m\u001b[0;34m(\u001b[0m\u001b[0;34m'\\.*'\u001b[0m\u001b[0;34m,\u001b[0m\u001b[0mref\u001b[0m\u001b[0;34m)\u001b[0m\u001b[0;34m)\u001b[0m\u001b[0;34m)\u001b[0m\u001b[0;34m,\u001b[0m\u001b[0mrefsep\u001b[0m\u001b[0;34m)\u001b[0m\u001b[0;34m\u001b[0m\u001b[0;34m\u001b[0m\u001b[0m\n\u001b[0m\u001b[1;32m     61\u001b[0m     \u001b[0mself\u001b[0m\u001b[0;34m.\u001b[0m\u001b[0mname\u001b[0m\u001b[0;34m=\u001b[0m\u001b[0mname\u001b[0m\u001b[0;34m\u001b[0m\u001b[0;34m\u001b[0m\u001b[0m\n\u001b[1;32m     62\u001b[0m     \u001b[0mself\u001b[0m\u001b[0;34m.\u001b[0m\u001b[0mbegin\u001b[0m\u001b[0;34m=\u001b[0m\u001b[0mbegin\u001b[0m\u001b[0;34m\u001b[0m\u001b[0;34m\u001b[0m\u001b[0m\n",
            "\u001b[0;31mNameError\u001b[0m: name 'join' is not defined"
          ]
        }
      ]
    },
    {
      "cell_type": "markdown",
      "metadata": {
        "id": "D-bUErbCvgxW",
        "colab_type": "text"
      },
      "source": [
        "Complete with references that can be deduced to exist in TOC"
      ]
    },
    {
      "cell_type": "code",
      "metadata": {
        "id": "fm3bW00-vtlM",
        "colab_type": "code",
        "colab": {}
      },
      "source": [
        "refLeft=[]\n",
        "for toc in TOC_EC3.tocList:\n",
        "  levels=re.split(TOC_EC3.refsepRegex,toc.ref)\n",
        "  levels=list(filter(lambda item: item, levels))\n",
        "  levels=list(map(int,levels))\n",
        "  for level in range(toc.level+1):\n",
        "    numLevel=levels[level]\n",
        "    #if numLevel=1 there is no previous ref in this level\n",
        "    if numLevel!=1:\n",
        "      #find the first part of the ref at the levels>0\n",
        "      if level!=0:\n",
        "        prevref=''\n",
        "        for i in range(level):\n",
        "          prevref=prevref+str(levels[i])+TOC_EC3.refsep\n",
        "          pass\n",
        "      else:\n",
        "        prevref=''\n",
        "        pass\n",
        "      #add to refLeft the lefts references\n",
        "      for i in range(1,numLevel+1):\n",
        "        refLeft.append(prevref+str(i)+TOC_EC3.refsep)\n",
        "        pass\n",
        "      pass\n",
        "    pass\n",
        "  pass\n",
        "refLeft=list(set(refLeft))\n",
        "refLeft.sort()\n",
        "print(refLeft)\n",
        "len(refLeft)\n",
        "\n",
        "for ref in refLeft:\n",
        "  refsep=TOC_EC3.refsep\n",
        "  toc_EC3=toc(ref,refsep,nam)\n",
        "  TOC_EC3.addToc(toc_EC3)\n",
        "  pass\n",
        "TOC_EC3.tocList.sort(key=lambda x: x.ref, reverse=False)\n",
        "TOC_EC3.printTOC()"
      ],
      "execution_count": null,
      "outputs": []
    },
    {
      "cell_type": "markdown",
      "metadata": {
        "id": "5uRi_CxIQyGS",
        "colab_type": "text"
      },
      "source": [
        "Complete TOC with references deduced from TOC's complete references"
      ]
    },
    {
      "cell_type": "code",
      "metadata": {
        "id": "IB4JZfoyRJ1M",
        "colab_type": "code",
        "colab": {}
      },
      "source": [
        "pattern = re.compile(TOC_EC3.refRegex)\n",
        "refList=[]\n",
        "for page in pages:\n",
        "  for match in pattern.finditer(pages[page]):\n",
        "    refList.append(match.group())\n",
        "    pass\n",
        "  pass\n",
        "\n",
        "refList=list(set(refList))\n",
        "refList.sort()\n",
        "print(refList)\n",
        "len(refList)"
      ],
      "execution_count": null,
      "outputs": []
    },
    {
      "cell_type": "markdown",
      "metadata": {
        "id": "dwb9SQmhQEI6",
        "colab_type": "text"
      },
      "source": [
        "# Close PDF"
      ]
    },
    {
      "cell_type": "code",
      "metadata": {
        "id": "5JPVNXqMLRPZ",
        "colab_type": "code",
        "colab": {}
      },
      "source": [
        "pdfFile.close()"
      ],
      "execution_count": null,
      "outputs": []
    }
  ]
}