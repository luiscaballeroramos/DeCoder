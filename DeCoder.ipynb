{
  "nbformat": 4,
  "nbformat_minor": 0,
  "metadata": {
    "colab": {
      "name": "Te damos la bienvenida a Colaboratory",
      "provenance": [],
      "collapsed_sections": [],
      "toc_visible": true,
      "include_colab_link": true
    },
    "kernelspec": {
      "display_name": "Python 3",
      "name": "python3"
    },
    "accelerator": "GPU"
  },
  "cells": [
    {
      "cell_type": "markdown",
      "metadata": {
        "id": "view-in-github",
        "colab_type": "text"
      },
      "source": [
        "<a href=\"https://colab.research.google.com/github/luiscaballeroramos/DeCoder/blob/EC3_1_8_DesignOfJoints/DeCoder.ipynb\" target=\"_parent\"><img src=\"https://colab.research.google.com/assets/colab-badge.svg\" alt=\"Open In Colab\"/></a>"
      ]
    },
    {
      "cell_type": "markdown",
      "metadata": {
        "id": "q2EDzXG0RvSb",
        "colab_type": "text"
      },
      "source": [
        "# 0. Preliminary Tasks"
      ]
    },
    {
      "cell_type": "markdown",
      "metadata": {
        "id": "PufMfJubJbAx",
        "colab_type": "text"
      },
      "source": [
        "Install and import PyPDF2 library to open and read the PDF file containing the code"
      ]
    },
    {
      "cell_type": "code",
      "metadata": {
        "id": "zLUSLc-tA0_H",
        "colab_type": "code",
        "colab": {
          "base_uri": "https://localhost:8080/",
          "height": 34
        },
        "outputId": "d2ce1fa9-eb4d-4fa1-eed5-d7987622ec37"
      },
      "source": [
        "!pip install PyPDF2\n",
        "import PyPDF2"
      ],
      "execution_count": 6,
      "outputs": [
        {
          "output_type": "stream",
          "text": [
            "Requirement already satisfied: PyPDF2 in /usr/local/lib/python3.6/dist-packages (1.26.0)\n"
          ],
          "name": "stdout"
        }
      ]
    },
    {
      "cell_type": "markdown",
      "metadata": {
        "id": "6in-bcdRJofT",
        "colab_type": "text"
      },
      "source": [
        "Clone the GitHub repository containing the PDF file with code"
      ]
    },
    {
      "cell_type": "code",
      "metadata": {
        "id": "wiBWTI6uWCSo",
        "colab_type": "code",
        "colab": {
          "base_uri": "https://localhost:8080/",
          "height": 381
        },
        "outputId": "4b2d3191-9c03-493f-b701-80b25b7d5a65"
      },
      "source": [
        "# Clone the entire repo.\n",
        "!git clone -l -s -b EC3_1_8_DesignOfJoints https://github.com/luiscaballeroramos/DeCoder.git DeCoder\n",
        "\n",
        "import DeCoder_Auxiliary as aux\n",
        "aux.Luis()"
      ],
      "execution_count": 7,
      "outputs": [
        {
          "output_type": "stream",
          "text": [
            "fatal: destination path 'DeCoder' already exists and is not an empty directory.\n"
          ],
          "name": "stdout"
        },
        {
          "output_type": "error",
          "ename": "ModuleNotFoundError",
          "evalue": "ignored",
          "traceback": [
            "\u001b[0;31m---------------------------------------------------------------------------\u001b[0m",
            "\u001b[0;31mModuleNotFoundError\u001b[0m                       Traceback (most recent call last)",
            "\u001b[0;32m<ipython-input-7-c384ab192fe6>\u001b[0m in \u001b[0;36m<module>\u001b[0;34m()\u001b[0m\n\u001b[1;32m      2\u001b[0m \u001b[0mget_ipython\u001b[0m\u001b[0;34m(\u001b[0m\u001b[0;34m)\u001b[0m\u001b[0;34m.\u001b[0m\u001b[0msystem\u001b[0m\u001b[0;34m(\u001b[0m\u001b[0;34m'git clone -l -s -b EC3_1_8_DesignOfJoints https://github.com/luiscaballeroramos/DeCoder.git DeCoder'\u001b[0m\u001b[0;34m)\u001b[0m\u001b[0;34m\u001b[0m\u001b[0;34m\u001b[0m\u001b[0m\n\u001b[1;32m      3\u001b[0m \u001b[0;34m\u001b[0m\u001b[0m\n\u001b[0;32m----> 4\u001b[0;31m \u001b[0;32mimport\u001b[0m \u001b[0mDeCoder_Auxiliary\u001b[0m \u001b[0;32mas\u001b[0m \u001b[0maux\u001b[0m\u001b[0;34m\u001b[0m\u001b[0;34m\u001b[0m\u001b[0m\n\u001b[0m\u001b[1;32m      5\u001b[0m \u001b[0maux\u001b[0m\u001b[0;34m.\u001b[0m\u001b[0mLuis\u001b[0m\u001b[0;34m(\u001b[0m\u001b[0;34m)\u001b[0m\u001b[0;34m\u001b[0m\u001b[0;34m\u001b[0m\u001b[0m\n",
            "\u001b[0;31mModuleNotFoundError\u001b[0m: No module named 'DeCoder_Auxiliary'",
            "",
            "\u001b[0;31m---------------------------------------------------------------------------\u001b[0;32m\nNOTE: If your import is failing due to a missing package, you can\nmanually install dependencies using either !pip or !apt.\n\nTo view examples of installing some common dependencies, click the\n\"Open Examples\" button below.\n\u001b[0;31m---------------------------------------------------------------------------\u001b[0m\n"
          ]
        }
      ]
    },
    {
      "cell_type": "markdown",
      "metadata": {
        "id": "5nU2KtuvJ5GF",
        "colab_type": "text"
      },
      "source": [
        "Import libraries used in this tool"
      ]
    },
    {
      "cell_type": "code",
      "metadata": {
        "id": "I1ZEKl7fTO9c",
        "colab_type": "code",
        "colab": {}
      },
      "source": [
        "import numpy as np\n",
        "import regex as re\n",
        "from tabulate import tabulate"
      ],
      "execution_count": null,
      "outputs": []
    },
    {
      "cell_type": "markdown",
      "metadata": {
        "id": "Sz_G46GVIF7B",
        "colab_type": "text"
      },
      "source": [
        "# 1. Read PDF\n",
        "\n",
        "Read the .pdf file with PyPF2 library"
      ]
    },
    {
      "cell_type": "code",
      "metadata": {
        "id": "S342P1RjLBm0",
        "colab_type": "code",
        "colab": {}
      },
      "source": [
        "pdfFile=open('DeCoder/EC 1993.1.8.2005-1.pdf','rb')\n",
        "pdfReader=PyPDF2.PdfFileReader(pdfFile)"
      ],
      "execution_count": null,
      "outputs": []
    },
    {
      "cell_type": "code",
      "metadata": {
        "id": "dQw9xHOVLVBM",
        "colab_type": "code",
        "colab": {}
      },
      "source": [
        "numPages=pdfReader.numPages\n",
        "print(numPages)"
      ],
      "execution_count": null,
      "outputs": []
    },
    {
      "cell_type": "markdown",
      "metadata": {
        "id": "5cJkLwYbKZjh",
        "colab_type": "text"
      },
      "source": [
        "Get the pages content as dictionary (pages) with:\n",
        "* key = page number (pageNum)\n",
        "* value = page content as string (pageContent)\n",
        "\n"
      ]
    },
    {
      "cell_type": "code",
      "metadata": {
        "id": "TAnRzPNXOHM1",
        "colab_type": "code",
        "colab": {}
      },
      "source": [
        "pages={}\n",
        "pageContent=''\n",
        "for pageNum in range(0,numPages):\n",
        "  pdfPage=pdfReader.getPage(pageNum)\n",
        "  pageContent=pdfPage.extractText()\n",
        "  pages[pageNum]=pageContent\n",
        "  pass"
      ],
      "execution_count": null,
      "outputs": []
    },
    {
      "cell_type": "markdown",
      "metadata": {
        "id": "2mu4xLtUYInb",
        "colab_type": "text"
      },
      "source": [
        "# 2. Table Of Contents (TOC)\n",
        "2.0. TOC Definition (settings)\n",
        "\n",
        "2.1. TOC Location (pages)\n",
        "\n",
        "2.2. TOC Contents (toc's)"
      ]
    },
    {
      "cell_type": "markdown",
      "metadata": {
        "id": "LC1Sm60AUMmZ",
        "colab_type": "text"
      },
      "source": [
        "# 2.0. TOC Definition"
      ]
    },
    {
      "cell_type": "markdown",
      "metadata": {
        "id": "RkerAtNbLTKh",
        "colab_type": "text"
      },
      "source": [
        "Set TOC identifiers, keywords that could be used to refering TOC"
      ]
    },
    {
      "cell_type": "code",
      "metadata": {
        "id": "9fF57ToRMz1A",
        "colab_type": "code",
        "colab": {}
      },
      "source": [
        "TOCidentifiers=['contents','Contents',\n",
        "                 'table of contents','Table of contents','Table Of Contents']"
      ],
      "execution_count": null,
      "outputs": []
    },
    {
      "cell_type": "markdown",
      "metadata": {
        "id": "1l22DtXCG_XA",
        "colab_type": "text"
      },
      "source": [
        "Description of toc elements by regex expressions "
      ]
    },
    {
      "cell_type": "code",
      "metadata": {
        "id": "oj7ihYnISKQI",
        "colab_type": "code",
        "colab": {}
      },
      "source": [
        "refidRegex='\\d'\n",
        "refsepRegex='\\.'\n",
        "refsep='.'\n",
        "namRegex='[\\s\\w]*'\n",
        "sepRegex='\\.{2,}'\n",
        "numRegex='\\d+'"
      ],
      "execution_count": null,
      "outputs": []
    },
    {
      "cell_type": "code",
      "metadata": {
        "id": "2bTT4LzJZyNj",
        "colab_type": "code",
        "colab": {}
      },
      "source": [
        "\n",
        "\n",
        "\n",
        "\n",
        "TOC_EC3=TOC(refidRegex,refsepRegex,refsep,namRegex,sepRegex,numRegex)"
      ],
      "execution_count": null,
      "outputs": []
    },
    {
      "cell_type": "code",
      "metadata": {
        "id": "rXW96EKaZChz",
        "colab_type": "code",
        "colab": {}
      },
      "source": [
        "\n",
        "\n",
        "\n"
      ],
      "execution_count": null,
      "outputs": []
    },
    {
      "cell_type": "code",
      "metadata": {
        "id": "A1zfawouTr5a",
        "colab_type": "code",
        "colab": {}
      },
      "source": [
        "def join(l, sep):\n",
        "    out_str = ''\n",
        "    for i, el in enumerate(l):\n",
        "        out_str += '{}{}'.format(el, sep)\n",
        "    return out_str\n",
        "\n",
        "\n"
      ],
      "execution_count": null,
      "outputs": []
    },
    {
      "cell_type": "markdown",
      "metadata": {
        "id": "Wo4e4b0rRRQc",
        "colab_type": "text"
      },
      "source": [
        "# 2.1. TOC Location"
      ]
    },
    {
      "cell_type": "markdown",
      "metadata": {
        "id": "wJOnQENhLyY_",
        "colab_type": "text"
      },
      "source": [
        "TOC identifiers apearances in each document page "
      ]
    },
    {
      "cell_type": "code",
      "metadata": {
        "id": "9AxQQczRLyyB",
        "colab_type": "code",
        "colab": {}
      },
      "source": [
        "TOCcoincidences={}\n",
        "TOCtotalCoincidences={}\n",
        "for pageNum, pageContent in pages.items():\n",
        "  aux=[]\n",
        "  for TOCidentifier in TOCidentifiers:\n",
        "    aux.append(pageContent.count(TOCidentifier))\n",
        "    pass\n",
        "  TOCcoincidences[pageNum]=aux\n",
        "  TOCtotalCoincidences[pageNum]=sum(aux)\n",
        "  pass"
      ],
      "execution_count": null,
      "outputs": []
    },
    {
      "cell_type": "markdown",
      "metadata": {
        "id": "GSSQ3zPZPYeG",
        "colab_type": "text"
      },
      "source": [
        "Total of TOC identifiers apearances in PDF document"
      ]
    },
    {
      "cell_type": "code",
      "metadata": {
        "id": "7mf3Wz-J8vIe",
        "colab_type": "code",
        "colab": {}
      },
      "source": [
        "sumTOCTotalCoincidences=sum(TOCtotalCoincidences.values())\n",
        "print('Number of TOC indentifiers: {0}'.format(sumTOCTotalCoincidences))"
      ],
      "execution_count": null,
      "outputs": []
    },
    {
      "cell_type": "markdown",
      "metadata": {
        "id": "FsKcRtGePjL0",
        "colab_type": "text"
      },
      "source": [
        "Max TOC identifiers apearances in one page and the page where this happens"
      ]
    },
    {
      "cell_type": "code",
      "metadata": {
        "id": "oyVuUAJ88yDx",
        "colab_type": "code",
        "colab": {}
      },
      "source": [
        "maxTOCTotalCoincidences=max(TOCtotalCoincidences.values())\n",
        "maxTOCTotalCoincidencesPages = [key  for (key, value) in TOCtotalCoincidences.items() if value == maxTOCTotalCoincidences]\n",
        "print('Number of Max TOC indentifiers in One Page: {0}'.format(maxTOCTotalCoincidences))\n",
        "print('Pages with Max TOC indentifiers in One Page: {0}'.format(maxTOCTotalCoincidencesPages))"
      ],
      "execution_count": null,
      "outputs": []
    },
    {
      "cell_type": "markdown",
      "metadata": {
        "id": "36xV1zkuectm",
        "colab_type": "text"
      },
      "source": [
        "Pages where toc pattern (Regex) is detected"
      ]
    },
    {
      "cell_type": "code",
      "metadata": {
        "colab_type": "code",
        "id": "KjtBxwYrazHV",
        "colab": {}
      },
      "source": [
        "tocCoincidences={}\n",
        "for pageNum, pageContent in pages.items():\n",
        "  tocCoincidences[pageNum]=len(re.findall(TOC_EC3.tocRegex,pages[pageNum]))\n",
        "  pass"
      ],
      "execution_count": null,
      "outputs": []
    },
    {
      "cell_type": "code",
      "metadata": {
        "colab_type": "code",
        "id": "iQmfUyrKdnCy",
        "colab": {}
      },
      "source": [
        "noNulltocCoincidencesPages = [key  for (key, value) in tocCoincidences.items() if value != 0]\n",
        "print('Pages with toc Regex: {0}'.format(noNulltocCoincidencesPages))"
      ],
      "execution_count": null,
      "outputs": []
    },
    {
      "cell_type": "code",
      "metadata": {
        "id": "qud5znLCfctF",
        "colab_type": "code",
        "colab": {}
      },
      "source": [
        "TOCpages=noNulltocCoincidencesPages"
      ],
      "execution_count": null,
      "outputs": []
    },
    {
      "cell_type": "markdown",
      "metadata": {
        "id": "6KrxcR7HRlnM",
        "colab_type": "text"
      },
      "source": [
        "# 2.2. TOC Contents"
      ]
    },
    {
      "cell_type": "markdown",
      "metadata": {
        "id": "QKSj_1GdvTp8",
        "colab_type": "text"
      },
      "source": [
        "Look for complete tocRegex in TOCpages"
      ]
    },
    {
      "cell_type": "code",
      "metadata": {
        "id": "2rVp7MBs_QC4",
        "colab_type": "code",
        "colab": {}
      },
      "source": [
        "pattern = re.compile(TOC_EC3.tocRegex)\n",
        "for page in TOCpages:\n",
        "  for match in pattern.finditer(pages[page]):\n",
        "    [split1,split2]=re.split(TOC_EC3.sepRegex,match.group())\n",
        "    ref=re.search(TOC_EC3.refRegex,split1).group()\n",
        "    split1=re.sub(TOC_EC3.refRegex,'',split1)\n",
        "    nam=re.search(TOC_EC3.namRegex,split1).group()\n",
        "    split1=re.sub(TOC_EC3.namRegex,'',split1)\n",
        "    num=re.search(TOC_EC3.numRegex,split2).group()\n",
        "    beginLocation=PDFlocation(num)\n",
        "    refsep=TOC_EC3.refsep\n",
        "    toc_EC3=toc(ref,refsep,nam,beginLocation)\n",
        "    TOC_EC3.addToc(toc_EC3)\n",
        "    pass\n",
        "  pass\n",
        "TOC_EC3.tocList.sort(key=lambda x: x.ref, reverse=False)\n",
        "TOC_EC3.printTOC()"
      ],
      "execution_count": null,
      "outputs": []
    },
    {
      "cell_type": "markdown",
      "metadata": {
        "id": "D-bUErbCvgxW",
        "colab_type": "text"
      },
      "source": [
        "Complete with references that can be deduced to exist in TOC"
      ]
    },
    {
      "cell_type": "code",
      "metadata": {
        "id": "fm3bW00-vtlM",
        "colab_type": "code",
        "colab": {}
      },
      "source": [
        "refLeft=[]\n",
        "for toc in TOC_EC3.tocList:\n",
        "  levels=re.split(TOC_EC3.refsepRegex,toc.ref)\n",
        "  levels=list(filter(lambda item: item, levels))\n",
        "  levels=list(map(int,levels))\n",
        "  for level in range(toc.level+1):\n",
        "    numLevel=levels[level]\n",
        "    #if numLevel=1 there is no previous ref in this level\n",
        "    if numLevel!=1:\n",
        "      #find the first part of the ref at the levels>0\n",
        "      if level!=0:\n",
        "        prevref=''\n",
        "        for i in range(level):\n",
        "          prevref=prevref+str(levels[i])+TOC_EC3.refsep\n",
        "          pass\n",
        "      else:\n",
        "        prevref=''\n",
        "        pass\n",
        "      #add to refLeft the lefts references\n",
        "      for i in range(1,numLevel+1):\n",
        "        refLeft.append(prevref+str(i)+TOC_EC3.refsep)\n",
        "        pass\n",
        "      pass\n",
        "    pass\n",
        "  pass\n",
        "refLeft=list(set(refLeft))\n",
        "refLeft.sort()\n",
        "print(refLeft)\n",
        "len(refLeft)\n",
        "\n",
        "for ref in refLeft:\n",
        "  refsep=TOC_EC3.refsep\n",
        "  toc_EC3=toc(ref,refsep,nam)\n",
        "  TOC_EC3.addToc(toc_EC3)\n",
        "  pass\n",
        "TOC_EC3.tocList.sort(key=lambda x: x.ref, reverse=False)\n",
        "TOC_EC3.printTOC()"
      ],
      "execution_count": null,
      "outputs": []
    },
    {
      "cell_type": "markdown",
      "metadata": {
        "id": "5uRi_CxIQyGS",
        "colab_type": "text"
      },
      "source": [
        "Complete TOC with references deduced from TOC's complete references"
      ]
    },
    {
      "cell_type": "code",
      "metadata": {
        "id": "IB4JZfoyRJ1M",
        "colab_type": "code",
        "colab": {}
      },
      "source": [
        "pattern = re.compile(TOC_EC3.refRegex)\n",
        "refList=[]\n",
        "for page in pages:\n",
        "  for match in pattern.finditer(pages[page]):\n",
        "    refList.append(match.group())\n",
        "    pass\n",
        "  pass\n",
        "\n",
        "refList=list(set(refList))\n",
        "refList.sort()\n",
        "print(refList)\n",
        "len(refList)"
      ],
      "execution_count": null,
      "outputs": []
    },
    {
      "cell_type": "markdown",
      "metadata": {
        "id": "dwb9SQmhQEI6",
        "colab_type": "text"
      },
      "source": [
        "# Close PDF"
      ]
    },
    {
      "cell_type": "code",
      "metadata": {
        "id": "5JPVNXqMLRPZ",
        "colab_type": "code",
        "colab": {}
      },
      "source": [
        "pdfFile.close()"
      ],
      "execution_count": null,
      "outputs": []
    }
  ]
}